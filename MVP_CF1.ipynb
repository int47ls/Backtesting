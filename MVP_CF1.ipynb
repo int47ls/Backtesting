{
 "cells": [
  {
   "cell_type": "markdown",
   "metadata": {},
   "source": [
    "## Datos"
   ]
  },
  {
   "cell_type": "code",
   "execution_count": 1,
   "metadata": {},
   "outputs": [],
   "source": [
    "import numpy as np, pandas as pd\n",
    "import matplotlib as mpl, seaborn as sns\n",
    "import yfinance as yf\n",
    "import os, pickle, requests\n",
    "import random\n",
    "\n",
    "from matplotlib import pyplot as plt\n",
    "from scipy import stats"
   ]
  },
  {
   "cell_type": "code",
   "execution_count": 2,
   "metadata": {},
   "outputs": [],
   "source": [
    "def getData(ticker,data_from,data_to):\n",
    "    data=yf.download(ticker,auto_adjust=True,progress=False,start=data_from,end=data_to)\n",
    "    data.rename(columns={'Close':'AdjClose'},inplace=True)\n",
    "    return data\n",
    "   "
   ]
  },
  {
   "cell_type": "code",
   "execution_count": 3,
   "metadata": {},
   "outputs": [],
   "source": [
    "def getPrice(symbol):\n",
    "    \"\"\"\n",
    "    Historical Daily Prices\n",
    "    Dado un activo (symbol), retorna unicamente su closing price historico (máx 40 years)\n",
    "    Return: daily dataframe (close)\n",
    "    \"\"\"        \n",
    "    try:\n",
    "        url='https://financialmodelingprep.com/api/v3/historical-price-full/'+symbol\n",
    "        api_key='bb2325e9fc32528d8472b3d75d1bd41c'\n",
    "        p= {'serietype' : 'line','apikey': api_key}\n",
    "        r=requests.get(url,params=p)\n",
    "        js=r.json()\n",
    "        df=pd.DataFrame(js['historical'])\n",
    "        df.set_index('date',inplace=True)\n",
    "        df.index=pd.to_datetime(df.index)\n",
    "        df.rename(columns={'close':'price'},inplace=True)\n",
    "        df.sort_values('date',ascending=True, inplace=True)\n",
    "        return df\n",
    "\n",
    "    except:\n",
    "        print(symbol,' Historical daily prices not found')"
   ]
  },
  {
   "cell_type": "code",
   "execution_count": 4,
   "metadata": {},
   "outputs": [],
   "source": [
    "#stock='XOM'\n",
    "#xom=getPrice(stock)\n",
    "\n",
    "#path='C:\\\\Users\\\\Usuario\\\\Dataset\\\\MVP_CF1'\n",
    "#os.chdir(path)\n",
    "#xom.to_excel('XOM.xlsx')"
   ]
  },
  {
   "cell_type": "code",
   "execution_count": 5,
   "metadata": {},
   "outputs": [
    {
     "data": {
      "text/plain": [
       "count    15129.000000\n",
       "mean         0.036545\n",
       "std          1.441368\n",
       "min        -23.428571\n",
       "25%         -0.710227\n",
       "50%          0.000000\n",
       "75%          0.782779\n",
       "max         17.910448\n",
       "dtype: float64"
      ]
     },
     "execution_count": 5,
     "metadata": {},
     "output_type": "execute_result"
    }
   ],
   "source": [
    "path='C:\\\\Users\\\\Usuario\\\\Dataset\\\\MVP_CF1'\n",
    "os.chdir(path)\n",
    "\n",
    "#data=pd.read_excel('KO.xlsx',index_col='date')\n",
    "#data=pd.read_excel('AAPL.xlsx',index_col='date')\n",
    "data=pd.read_excel('XOM.xlsx',index_col='date')\n",
    "data.rename(columns={'price':'AdjClose'},inplace=True)\n",
    "data.pct_change().mul(100).describe().mean(axis=1)"
   ]
  },
  {
   "cell_type": "markdown",
   "metadata": {},
   "source": [
    "### Filtro de datos (QC)\n",
    "\n",
    "Validar los datos a utilizar en relación a:\n",
    "\n",
    "* dividendos / splits\n",
    "* spikes\n",
    "* son todos activos de un mismo sector / high-low beta\n",
    "* survivorship bias\n",
    "* QC datos (utlizar data profiler)"
   ]
  },
  {
   "cell_type": "markdown",
   "metadata": {},
   "source": [
    "## Data Mining\n",
    "\n",
    "Intenta buscar patrones que nos den algún tipo de señal, esto es, se agregan indicadores / features y se analizan las correlaciones contra el target (precio / futuro retorno del mismo), de manera de generarme algún tipo de clasificación diferenciable (ML)\n",
    "\n",
    "Podemos agregar indicadores de cruces de media, indicadores técnicos (RSI), osciladores (MACD), paramétricos de la distribución del target (sigma, skew, kurtosis)"
   ]
  },
  {
   "cell_type": "code",
   "execution_count": 6,
   "metadata": {},
   "outputs": [],
   "source": [
    "def addCRUCE(data,fast,slow):\n",
    "    data[f'SMA_{fast}']=data.AdjClose.rolling(fast).mean()\n",
    "    data[f'SMA_{slow}']=data.AdjClose.rolling(slow).mean()\n",
    "    data[f'Cruce_{fast}_{slow}']=data[f'SMA_{fast}']/data[f'SMA_{slow}']-1\n",
    "    return data"
   ]
  },
  {
   "cell_type": "code",
   "execution_count": 7,
   "metadata": {},
   "outputs": [],
   "source": [
    "def addRSI(data, ruedas, ruedas_pend=0):\n",
    "    '''\n",
    "    Agrega la columna RSI a nuestro dataframe, basado en su columna adjusted_close\n",
    "    |    \n",
    "    |_ data:  dataframe\n",
    "    |\n",
    "    |_ ruedas: integer, La cantidad de ruedas para el cálculo del RSI\n",
    "    |\n",
    "    |_ ruedas_pend : integer, opcional (Cantidad de ruedas para calcular pendiente del RSI y su divergencia)\n",
    "    '''\n",
    "    import numpy as np\n",
    "    df = data.copy()\n",
    "    df['dif'] = df.AdjClose.diff()\n",
    "    df['win'] = np.where(df['dif'] > 0, df['dif'], 0)\n",
    "    df['loss'] = np.where(df['dif'] < 0, abs(df['dif']), 0)\n",
    "    df['ema_win'] = df.win.ewm(alpha=1/ruedas).mean()\n",
    "    df['ema_loss'] = df.loss.ewm(alpha=1/ruedas).mean()\n",
    "    df['rs'] = df.ema_win / df.ema_loss\n",
    "    data['rsi'] = 100 - (100 / (1+df.rs))\n",
    "\n",
    "    if ruedas_pend != 0:\n",
    "        data['rsi_pend'] = (data.rsi/data.rsi.shift(ruedas_pend)-1)*100\n",
    "        precio_pend = (data.AdjClose/data.AdjClose.shift(ruedas_pend)-1)*100\n",
    "        data['rsi_div'] = data.rsi_pend * precio_pend\n",
    "    return data"
   ]
  },
  {
   "cell_type": "code",
   "execution_count": 8,
   "metadata": {},
   "outputs": [],
   "source": [
    "def addFW(data, n):\n",
    "    data['fw_'+str(n)] = (data.AdjClose.shift(-n) / data.AdjClose -1)*100\n",
    "    return data"
   ]
  },
  {
   "cell_type": "code",
   "execution_count": 9,
   "metadata": {},
   "outputs": [],
   "source": [
    "def addSIGMA(data, n):\n",
    "    data['variacion']=data.AdjClose.pct_change()*100\n",
    "    data['sigma_'+str(n)] = data.AdjClose.pct_change().rolling(n).std()\n",
    "    #data_aux=data.AdjClose.pct_change()*100\n",
    "    #data['sigma_'+str(n)] = data_aux.rolling(n).std()*(n**0.5)\n",
    "    return data"
   ]
  },
  {
   "cell_type": "code",
   "execution_count": 10,
   "metadata": {},
   "outputs": [],
   "source": [
    "def getFeatures(data,n_obv=100,n_sigma=40,n_rsi=15,fast=20,slow=60):\n",
    "    data['Balance']=np.where(data.AdjClose>data.AdjClose.shift(),data['Volume'],np.where(data.AdjClose<data.AdjClose.shift(),-data['Volume'],0))\n",
    "    data['OBV']=data['Balance'].cumsum()\n",
    "    dif=data['AdjClose'].diff()\n",
    "    win=pd.DataFrame(np.where(dif>0,dif,0),index=data.index)\n",
    "    loss=pd.DataFrame(np.where(dif<0,abs(dif),0),index=data.index)\n",
    "    ema_win=win.ewm(alpha=1/n_rsi).mean()\n",
    "    ema_loss=loss.ewm(alpha=1/n_rsi).mean()\n",
    "    rs=ema_win/ema_loss\n",
    "\n",
    "    data['cruce']=data.AdjClose.rolling(fast).mean() / data.AdjClose.rolling(slow).mean() - 1\n",
    "    data['rsi']=100 - (100/(1+rs))\n",
    "    data['sigma']=data.AdjClose.pct_change().rolling(n_sigma).std()\n",
    "    data['OBV_osc']=(data.OBV - data.OBV.rolling(n_obv).mean()) / (data.OBV.rolling(n_obv).std())\n",
    "    features=data.iloc[:,-4:].dropna()\n",
    "    return features\n",
    "\n"
   ]
  },
  {
   "cell_type": "code",
   "execution_count": 11,
   "metadata": {},
   "outputs": [],
   "source": [
    "def getFeaturesbyADD(data,n_sigma,n_rsi,fast,slow):\n",
    "    data['cruce']=addCRUCE(data,fast,slow)[f'Cruce_{fast}_{slow}']\n",
    "    data['rsi']=addRSI(data, n_rsi, ruedas_pend=0)['rsi']\n",
    "    data['sigma']=addSIGMA(data,n_sigma)['sigma_'+str(n_sigma)]\n",
    "    cols=['cruce','rsi','sigma'] \n",
    "    features=data.loc[:,cols].dropna()\n",
    "    return features"
   ]
  },
  {
   "cell_type": "markdown",
   "metadata": {},
   "source": [
    "### Correlacion features versus variacion"
   ]
  },
  {
   "cell_type": "code",
   "execution_count": 12,
   "metadata": {},
   "outputs": [],
   "source": [
    "data=pd.read_excel('XOM.xlsx',index_col='date')\n",
    "data.rename(columns={'price':'AdjClose'},inplace=True)\n",
    "\n",
    "ruedas=14\n",
    "fast,slow=20,60 # dias\n",
    "sigma=40 # dias\n",
    "\n",
    "addCRUCE(data,fast,slow)\n",
    "addRSI(data,ruedas)\n",
    "addSIGMA(data,sigma)\n",
    "\n",
    "cols=['AdjClose',f'Cruce_{fast}_{slow}','rsi',f'sigma_{sigma}','variacion'] # features de interes\n",
    "data=data.loc[:,cols].dropna().round(4)\n",
    "\n",
    "data.iloc[:,1:-1]=data.iloc[:,1:-1].shift() # Adelanto una fila los indicadores para remover el look ahead bias"
   ]
  },
  {
   "cell_type": "code",
   "execution_count": 13,
   "metadata": {},
   "outputs": [
    {
     "name": "stdout",
     "output_type": "stream",
     "text": [
      "El r2 con feature Cruce_20_60 es -0.02\n",
      "El r2 con feature rsi es -0.04\n",
      "El r2 con feature sigma_40 es 0.02\n"
     ]
    }
   ],
   "source": [
    "features=[f'Cruce_{fast}_{slow}','rsi',f'sigma_{sigma}']\n",
    "for feature in features:\n",
    "    r2=data[feature].corr(data.variacion)\n",
    "    print(f\"El r2 con feature {feature} es {r2:.2f}\")\n"
   ]
  },
  {
   "cell_type": "code",
   "execution_count": 14,
   "metadata": {},
   "outputs": [
    {
     "data": {
      "text/plain": [
       "[(-10.0, 10.0)]"
      ]
     },
     "execution_count": 14,
     "metadata": {},
     "output_type": "execute_result"
    },
    {
     "data": {
      "image/png": "[encoded data removed]",
      "text/plain": [
       "<Figure size 432x288 with 1 Axes>"
      ]
     },
     "metadata": {
      "needs_background": "light"
     },
     "output_type": "display_data"
    }
   ],
   "source": [
    "g=sns.regplot(x=\"rsi\",y=\"variacion\",data=data,line_kws={\"color\":\"red\"},scatter_kws={\"color\":\"k\",\"alpha\":.5})\n",
    "g.set(ylim=(-10,10))"
   ]
  },
  {
   "cell_type": "markdown",
   "metadata": {},
   "source": [
    "### Correlacion features versus forwards"
   ]
  },
  {
   "cell_type": "code",
   "execution_count": 15,
   "metadata": {},
   "outputs": [],
   "source": [
    "data=pd.read_excel('XOM.xlsx',index_col='date')\n",
    "data.rename(columns={'price':'AdjClose'},inplace=True)\n",
    "\n",
    "ruedas=14\n",
    "fast,slow=20,60 # dias\n",
    "sigma=40 # dias\n",
    "\n",
    "addCRUCE(data,fast,slow)\n",
    "addRSI(data,ruedas)\n",
    "addSIGMA(data,sigma)\n",
    "addFW(data,10)\n",
    "addFW(data,20)\n",
    "\n",
    "cols=['AdjClose',f'Cruce_{fast}_{slow}','rsi',f'sigma_{sigma}','variacion','fw_10','fw_20'] # features de interes\n",
    "data=data.loc[:,cols].dropna().round(4)\n",
    "\n",
    "data.iloc[:,1:-1]=data.iloc[:,1:-1].shift() # Adelanto una fila los indicadores para remover el look ahead bias"
   ]
  },
  {
   "cell_type": "code",
   "execution_count": 16,
   "metadata": {},
   "outputs": [
    {
     "data": {
      "text/html": [
       "<div>\n",
       "<style scoped>\n",
       "    .dataframe tbody tr th:only-of-type {\n",
       "        vertical-align: middle;\n",
       "    }\n",
       "\n",
       "    .dataframe tbody tr th {\n",
       "        vertical-align: top;\n",
       "    }\n",
       "\n",
       "    .dataframe thead th {\n",
       "        text-align: right;\n",
       "    }\n",
       "</style>\n",
       "<table border=\"1\" class=\"dataframe\">\n",
       "  <thead>\n",
       "    <tr style=\"text-align: right;\">\n",
       "      <th></th>\n",
       "      <th>Cruce_20_60</th>\n",
       "      <th>rsi</th>\n",
       "      <th>sigma_40</th>\n",
       "    </tr>\n",
       "  </thead>\n",
       "  <tbody>\n",
       "    <tr>\n",
       "      <th>fw_10</th>\n",
       "      <td>-0.06</td>\n",
       "      <td>-0.07</td>\n",
       "      <td>0.06</td>\n",
       "    </tr>\n",
       "    <tr>\n",
       "      <th>fw_20</th>\n",
       "      <td>-0.06</td>\n",
       "      <td>-0.07</td>\n",
       "      <td>0.08</td>\n",
       "    </tr>\n",
       "  </tbody>\n",
       "</table>\n",
       "</div>"
      ],
      "text/plain": [
       "       Cruce_20_60   rsi  sigma_40\n",
       "fw_10        -0.06 -0.07      0.06\n",
       "fw_20        -0.06 -0.07      0.08"
      ]
     },
     "execution_count": 16,
     "metadata": {},
     "output_type": "execute_result"
    }
   ],
   "source": [
    "features=[f'Cruce_{fast}_{slow}','rsi',f'sigma_{sigma}']\n",
    "data.corr().loc[['fw_10','fw_20'],features].round(2)"
   ]
  },
  {
   "cell_type": "markdown",
   "metadata": {},
   "source": [
    "### Clasificaciones diferenciables"
   ]
  },
  {
   "cell_type": "code",
   "execution_count": 17,
   "metadata": {},
   "outputs": [
    {
     "name": "stdout",
     "output_type": "stream",
     "text": [
      "Medias segun clasificacion de Variacion \n",
      "                 Cruce_20_60    rsi  sigma_40\n",
      "variacion_tipo                              \n",
      "Down                   0.00  48.44      0.01\n",
      "Up                     0.01  54.99      0.01 \n",
      "\n",
      "Desvios segun clasificacion de Variacion \n",
      "                 Cruce_20_60    rsi  sigma_40\n",
      "variacion_tipo                              \n",
      "Down                   0.03  10.62      0.01\n",
      "Up                     0.03  10.26      0.01 \n",
      "\n"
     ]
    }
   ],
   "source": [
    "data['variacion_tipo']=np.where(data.variacion>0,'Up','Down')\n",
    "medias=data.groupby('variacion_tipo').mean().loc[:,features].round(2)\n",
    "desvios=data.groupby('variacion_tipo').std().loc[:,features].round(2)\n",
    "\n",
    "print(f'Medias segun clasificacion de Variacion \\n {medias} \\n')\n",
    "print(f'Desvios segun clasificacion de Variacion \\n {desvios} \\n')\n"
   ]
  },
  {
   "cell_type": "code",
   "execution_count": 18,
   "metadata": {},
   "outputs": [
    {
     "data": {
      "image/png": "[encoded data removed]",
      "text/plain": [
       "<Figure size 365.875x288 with 1 Axes>"
      ]
     },
     "metadata": {
      "needs_background": "light"
     },
     "output_type": "display_data"
    },
    {
     "data": {
      "image/png": "[encoded data removed]",
      "text/plain": [
       "<Figure size 365.875x288 with 1 Axes>"
      ]
     },
     "metadata": {
      "needs_background": "light"
     },
     "output_type": "display_data"
    },
    {
     "data": {
      "image/png": "[encoded data removed]",
      "text/plain": [
       "<Figure size 365.875x288 with 1 Axes>"
      ]
     },
     "metadata": {
      "needs_background": "light"
     },
     "output_type": "display_data"
    }
   ],
   "source": [
    "for feature in features:\n",
    "    sns.displot(data,x=feature,hue=\"variacion_tipo\",kind=\"kde\",height=4,fill=True)"
   ]
  },
  {
   "cell_type": "code",
   "execution_count": 19,
   "metadata": {},
   "outputs": [
    {
     "data": {
      "image/png": "[encoded data removed]",
      "text/plain": [
       "<Figure size 352.25x288 with 1 Axes>"
      ]
     },
     "metadata": {
      "needs_background": "light"
     },
     "output_type": "display_data"
    },
    {
     "data": {
      "image/png": "[encoded data removed]",
      "text/plain": [
       "<Figure size 352.25x288 with 1 Axes>"
      ]
     },
     "metadata": {
      "needs_background": "light"
     },
     "output_type": "display_data"
    },
    {
     "data": {
      "image/png": "[encoded data removed]",
      "text/plain": [
       "<Figure size 352.25x288 with 1 Axes>"
      ]
     },
     "metadata": {
      "needs_background": "light"
     },
     "output_type": "display_data"
    }
   ],
   "source": [
    "data['fw_10_tipo']=np.where(data.fw_10>0,'Up','Down')\n",
    "#medias=data.groupby('fw_10_tipo').mean().loc[:,features].round(2)\n",
    "#desvios=data.groupby('fw_10_tipo').std().loc[:,features].round(2)\n",
    "\n",
    "#print(f'Medias segun clasificacion de Variacion \\n {medias} \\n')\n",
    "#print(f'Desvios segun clasificacion de Variacion \\n {desvios} \\n')\n",
    "for feature in features:\n",
    "    sns.displot(data,x=feature,hue=\"fw_10_tipo\",kind=\"kde\",height=4,fill=True)"
   ]
  },
  {
   "cell_type": "code",
   "execution_count": 20,
   "metadata": {},
   "outputs": [
    {
     "data": {
      "image/png": "[encoded data removed]",
      "text/plain": [
       "<Figure size 352.25x288 with 1 Axes>"
      ]
     },
     "metadata": {
      "needs_background": "light"
     },
     "output_type": "display_data"
    },
    {
     "data": {
      "image/png": "[encoded data removed]",
      "text/plain": [
       "<Figure size 352.25x288 with 1 Axes>"
      ]
     },
     "metadata": {
      "needs_background": "light"
     },
     "output_type": "display_data"
    },
    {
     "data": {
      "image/png": "[encoded data removed]",
      "text/plain": [
       "<Figure size 352.25x288 with 1 Axes>"
      ]
     },
     "metadata": {
      "needs_background": "light"
     },
     "output_type": "display_data"
    }
   ],
   "source": [
    "data['fw_20_tipo']=np.where(data.fw_20>0,'Up','Down')\n",
    "#medias=data.groupby('fw_20_tipo').mean().loc[:,features].round(2)\n",
    "#desvios=data.groupby('fw_20_tipo').std().loc[:,features].round(2)\n",
    "\n",
    "#print(f'Medias segun clasificacion de Variacion \\n {medias} \\n')\n",
    "#print(f'Desvios segun clasificacion de Variacion \\n {desvios} \\n')\n",
    "for feature in features:\n",
    "    sns.displot(data,x=feature,hue=\"fw_20_tipo\",kind=\"kde\",height=4,fill=True)"
   ]
  },
  {
   "cell_type": "markdown",
   "metadata": {},
   "source": [
    "### Introspección de features\n",
    "\n",
    "Permite focalizar el esfuerzo en los mejores features que aporten valor, es decir, los que menos confusión pudieran generar."
   ]
  },
  {
   "cell_type": "markdown",
   "metadata": {},
   "source": [
    "#### 1) Relevancia de todos los features"
   ]
  },
  {
   "cell_type": "code",
   "execution_count": 21,
   "metadata": {},
   "outputs": [],
   "source": [
    "data=pd.read_excel('XOM.xlsx',index_col='date')\n",
    "data.rename(columns={'price':'AdjClose'},inplace=True)"
   ]
  },
  {
   "cell_type": "code",
   "execution_count": 22,
   "metadata": {},
   "outputs": [],
   "source": [
    "ruedas=14\n",
    "fast,slow=20,60 # dias\n",
    "sigma=40 # dias\n",
    "\n",
    "addCRUCE(data,fast,slow)\n",
    "addRSI(data,ruedas)\n",
    "addSIGMA(data,sigma)\n",
    "\n",
    "addFW(data,10)\n",
    "\n",
    "cols=[f'Cruce_{fast}_{slow}','rsi',f'sigma_{sigma}','fw_10']\n",
    "data=data.loc[:,cols].dropna().round(4)\n",
    "\n",
    "data.iloc[:,1:-1]=data.iloc[:,1:-1].shift()"
   ]
  },
  {
   "cell_type": "code",
   "execution_count": 23,
   "metadata": {},
   "outputs": [
    {
     "name": "stdout",
     "output_type": "stream",
     "text": [
      "Cruce_20_60   -0.056354\n",
      "rsi           -0.055514\n",
      "sigma_40       0.057717\n",
      "fw_10          1.000000\n",
      "Name: fw_10, dtype: float64\n",
      "Promedio=  0.0565282536550645\n"
     ]
    }
   ],
   "source": [
    "print(data.corr()['fw_10'])\n",
    "print('Promedio= ',data.corr()['fw_10'][:-1].abs().mean())"
   ]
  },
  {
   "cell_type": "markdown",
   "metadata": {},
   "source": [
    "#### 2) Multicolinealidad"
   ]
  },
  {
   "cell_type": "code",
   "execution_count": 24,
   "metadata": {},
   "outputs": [
    {
     "data": {
      "text/html": [
       "<div>\n",
       "<style scoped>\n",
       "    .dataframe tbody tr th:only-of-type {\n",
       "        vertical-align: middle;\n",
       "    }\n",
       "\n",
       "    .dataframe tbody tr th {\n",
       "        vertical-align: top;\n",
       "    }\n",
       "\n",
       "    .dataframe thead th {\n",
       "        text-align: right;\n",
       "    }\n",
       "</style>\n",
       "<table border=\"1\" class=\"dataframe\">\n",
       "  <thead>\n",
       "    <tr style=\"text-align: right;\">\n",
       "      <th></th>\n",
       "      <th>VIF</th>\n",
       "    </tr>\n",
       "    <tr>\n",
       "      <th>feature</th>\n",
       "      <th></th>\n",
       "    </tr>\n",
       "  </thead>\n",
       "  <tbody>\n",
       "    <tr>\n",
       "      <th>Cruce_20_60</th>\n",
       "      <td>1.212394</td>\n",
       "    </tr>\n",
       "    <tr>\n",
       "      <th>rsi</th>\n",
       "      <td>5.291893</td>\n",
       "    </tr>\n",
       "    <tr>\n",
       "      <th>sigma_40</th>\n",
       "      <td>4.996495</td>\n",
       "    </tr>\n",
       "  </tbody>\n",
       "</table>\n",
       "</div>"
      ],
      "text/plain": [
       "                  VIF\n",
       "feature              \n",
       "Cruce_20_60  1.212394\n",
       "rsi          5.291893\n",
       "sigma_40     4.996495"
      ]
     },
     "execution_count": 24,
     "metadata": {},
     "output_type": "execute_result"
    }
   ],
   "source": [
    "from statsmodels.stats.outliers_influence import variance_inflation_factor\n",
    "X=data.iloc[:,:-1].dropna()\n",
    "cols=X.columns\n",
    "vif=[variance_inflation_factor(X.values,i) for i in range(len(X.columns))]\n",
    "pd.DataFrame(zip(cols,vif), columns=['feature','VIF']).set_index('feature')"
   ]
  },
  {
   "cell_type": "code",
   "execution_count": 25,
   "metadata": {},
   "outputs": [
    {
     "data": {
      "text/plain": [
       "<AxesSubplot:>"
      ]
     },
     "execution_count": 25,
     "metadata": {},
     "output_type": "execute_result"
    },
    {
     "data": {
      "image/png": "[encoded data removed]",
      "text/plain": [
       "<Figure size 432x288 with 2 Axes>"
      ]
     },
     "metadata": {
      "needs_background": "light"
     },
     "output_type": "display_data"
    }
   ],
   "source": [
    "sns.heatmap(data.corr(),annot=True,fmt='.0%',linewidths=1)"
   ]
  },
  {
   "cell_type": "markdown",
   "metadata": {},
   "source": [
    "#### 3) Autoregresión"
   ]
  },
  {
   "cell_type": "code",
   "execution_count": 26,
   "metadata": {},
   "outputs": [
    {
     "data": {
      "image/png": "[encoded data removed]",
      "text/plain": [
       "<Figure size 1008x432 with 4 Axes>"
      ]
     },
     "metadata": {
      "needs_background": "light"
     },
     "output_type": "display_data"
    }
   ],
   "source": [
    "n_rows=2\n",
    "n_cols=len(data.columns)//2\n",
    "\n",
    "fig,ax=plt.subplots(figsize=(14,6),ncols=n_cols,nrows=n_rows)\n",
    "\n",
    "for i, col in enumerate(data.columns[:-1]):\n",
    "    r=i%2\n",
    "    c=i//2\n",
    "    pd.plotting.autocorrelation_plot(data[col],ax=ax[r][c])\n",
    "    ax[r][c].set_title(col)\n",
    "\n",
    "plt.subplots_adjust(hspace=0.4)"
   ]
  },
  {
   "cell_type": "markdown",
   "metadata": {},
   "source": [
    "#### 4) Distribuciones\n",
    "\n",
    "Es importante saber que tipo de distribución se corresponde con cada feature y el target, de modo de parametrizarlas para luego modelar simulaciones."
   ]
  },
  {
   "cell_type": "code",
   "execution_count": 30,
   "metadata": {},
   "outputs": [
    {
     "data": {
      "image/png": "[encoded data removed]",
      "text/plain": [
       "<Figure size 432x288 with 1 Axes>"
      ]
     },
     "metadata": {
      "needs_background": "light"
     },
     "output_type": "display_data"
    },
    {
     "data": {
      "text/plain": [
       "<matplotlib.legend.Legend at 0x1a03b2a6d90>"
      ]
     },
     "execution_count": 30,
     "metadata": {},
     "output_type": "execute_result"
    },
    {
     "data": {
      "image/png": "[encoded data removed]",
      "text/plain": [
       "<Figure size 432x288 with 1 Axes>"
      ]
     },
     "metadata": {
      "needs_background": "light"
     },
     "output_type": "display_data"
    },
    {
     "data": {
      "image/png": "[encoded data removed]",
      "text/plain": [
       "<Figure size 432x288 with 1 Axes>"
      ]
     },
     "metadata": {
      "needs_background": "light"
     },
     "output_type": "display_data"
    }
   ],
   "source": [
    "data['Cruce_20_60'].hist(bins=100,figsize=(6,4))\n",
    "plt.suptitle('')\n",
    "plt.show()\n",
    "\n",
    "kde=stats.gaussian_kde(data['Cruce_20_60'])\n",
    "resampleo=kde.resample(size=1000)[0]\n",
    "pd.Series(resampleo).hist(bins=100)\n",
    "x_eval=np.linspace(min(data['Cruce_20_60']),max(data['Cruce_20_60']),len(data['Cruce_20_60']))\n",
    "fig,ax=plt.subplots(figsize=(6,4))\n",
    "ax.plot(x_eval,kde(x_eval),'k--',label='KDE scipy')\n",
    "count,division=np.histogram(data['Cruce_20_60'],density=True,bins=200)\n",
    "ax.plot(division[:-1],count,lw=2,color='orange',label='real')\n",
    "ax.legend()"
   ]
  },
  {
   "cell_type": "markdown",
   "metadata": {},
   "source": [
    "#### 5) Balanceo / Desbalanceo\n",
    "\n",
    "Busco eventos de probabilidades menores al 10%, que es muy útil operando con un screener, de otra manera es complicado de capturar."
   ]
  },
  {
   "cell_type": "code",
   "execution_count": 31,
   "metadata": {},
   "outputs": [
    {
     "data": {
      "text/plain": [
       "-0.05635402201872296"
      ]
     },
     "execution_count": 31,
     "metadata": {},
     "output_type": "execute_result"
    }
   ],
   "source": [
    "data['Cruce_20_60'].corr(data['fw_10']) # es la correlación de toda la serie"
   ]
  },
  {
   "cell_type": "code",
   "execution_count": 32,
   "metadata": {},
   "outputs": [
    {
     "name": "stdout",
     "output_type": "stream",
     "text": [
      "Primer decil con corte de 10%  -0.1141188834450137\n",
      "Ultimo decil con corte de 10%  -0.026381495734866083\n"
     ]
    }
   ],
   "source": [
    "corte=int(data['Cruce_20_60'].count()/10) # Corte de 10%\n",
    "primer_decil=data.sort_values('Cruce_20_60',ascending=True).iloc[:corte]\n",
    "print('Primer decil con corte de 10% ',primer_decil['Cruce_20_60'].corr(primer_decil['fw_10']))\n",
    "\n",
    "ultimo_decil=data.sort_values('Cruce_20_60',ascending=False).iloc[:corte]\n",
    "print('Ultimo decil con corte de 10% ',ultimo_decil['Cruce_20_60'].corr(ultimo_decil['fw_10']))"
   ]
  },
  {
   "cell_type": "code",
   "execution_count": null,
   "metadata": {},
   "outputs": [],
   "source": []
  },
  {
   "cell_type": "markdown",
   "metadata": {},
   "source": [
    "## Composición del trade\n",
    "\n",
    "En este caso , y dado los features, con lógica definida de trade definimos las acciones, a partir de lo cual podemos backtestear.\n"
   ]
  },
  {
   "cell_type": "markdown",
   "metadata": {},
   "source": [
    "### Señales de compra / venta\n",
    "\n",
    "Una vez armada la matriz de features, se procede a armar la matriz de gatillos vía máscaras, la cual es una condición asociada a una o más columnas (de los features), en este caso definimos:\n",
    "\n",
    "* compra\n",
    "1) cruce de medias > 0\n",
    "2) RSI (ventana de 15 velas) > 65\n",
    "3) volatilidad diaria (ventana 40 velas) > 1%\n",
    "\n",
    "* venta\n",
    "1) cruce de medias < -1%\n",
    "2) RSI (ventana de 15 velas) < 55\n",
    "3) oscilador OBV > 0"
   ]
  },
  {
   "cell_type": "code",
   "execution_count": 33,
   "metadata": {},
   "outputs": [],
   "source": [
    "def getActions(features,trig_buy_cross=0,trig_buy_rsi=65,trig_buy_sigma=0.01,trig_sell_cross=-0.01,trig_sell_rsi=55,trig_sell_obv=0):\n",
    "    gatillos_compra=pd.DataFrame(index=features.index)\n",
    "    gatillos_compra['cruce']=np.where(features.cruce>trig_buy_cross,True,False)\n",
    "    gatillos_compra['rsi']=np.where(features.rsi>trig_buy_rsi,True,False)\n",
    "    gatillos_compra['sigma']=np.where(features.sigma>trig_buy_sigma,True,False)\n",
    "    mascara_compra=gatillos_compra.all(axis=1)\n",
    "\n",
    "    gatillos_venta=pd.DataFrame(index=features.index)\n",
    "    gatillos_venta['cruce']=np.where(features.cruce<trig_sell_cross,True,False)\n",
    "    gatillos_venta['rsi']=np.where(features.rsi<trig_sell_rsi,True,False)\n",
    "    gatillos_venta['obv']=np.where(features.OBV_osc > trig_sell_obv,True,False)\n",
    "    mascara_venta=gatillos_venta.all(axis=1)\n",
    "\n",
    "    data_aux=data.copy().dropna()\n",
    "    data_aux['gatillo']=np.where(mascara_compra,'compra',np.where(mascara_venta,'venta',''))\n",
    "    actions=data_aux.loc[data_aux.gatillo !=''].copy()\n",
    "\n",
    "    actions['gatillo']=np.where(actions.gatillo != actions.gatillo.shift(),actions.gatillo,'')\n",
    "    actions=actions.loc[actions.gatillo != ''].copy()\n",
    "\n",
    "    if actions.iloc[0].loc['gatillo'] == 'venta':\n",
    "        actions=actions.iloc[1:]\n",
    "    if actions.iloc[-1].loc['gatillo'] == 'compra':\n",
    "        actions=actions.iloc[:-1]\n",
    "    \n",
    "    return actions"
   ]
  },
  {
   "cell_type": "code",
   "execution_count": 34,
   "metadata": {},
   "outputs": [],
   "source": [
    "def getTrades(actions):\n",
    "    pares=actions.iloc[::2].loc[:,['AdjClose']].reset_index()\n",
    "    impares=actions.iloc[1::2].loc[:,['AdjClose']].reset_index()\n",
    "    trades=pd.concat([pares,impares],axis=1)\n",
    "\n",
    "    CT=0\n",
    "    trades.columns=['fecha_compra','px_compra','fecha_venta','px_venta']\n",
    "    trades['rendimiento']=trades.px_venta/trades.px_compra - 1\n",
    "    trades['rendimiento'] -= CT\n",
    "    trades['dias']=(trades.fecha_venta-trades.fecha_compra).dt.days\n",
    "\n",
    "    if len(trades):\n",
    "        trades['resultado']=np.where(trades['rendimiento'] > 0 , 'Ganador','Perdedor')\n",
    "        trades['rendimientoAcumulado']=(trades['rendimiento']+1).cumprod()-1\n",
    "    \n",
    "    return trades"
   ]
  },
  {
   "cell_type": "code",
   "execution_count": 35,
   "metadata": {},
   "outputs": [],
   "source": [
    "def resumen(trades):\n",
    "    if len(trades):\n",
    "        resultado=float(trades.iloc[-1:].rendimientoAcumulado-1)\n",
    "        agg_cant=trades.groupby('resultado').size()\n",
    "        agg_rend=trades.groupby('resultado').mean()['rendimiento']\n",
    "        agg_tiempos=trades.groupby('resultado').sum()['dias']\n",
    "        agg_tiempos_medio=trades.groupby('resultado').mean()['dias']\n",
    "\n",
    "\n",
    "        r=pd.concat([agg_cant,agg_rend,agg_tiempos,agg_tiempos_medio],axis=1)\n",
    "        r.columns=['Cantidad','Rendimiento x Trade','Dias Total','Dias x Trade']\n",
    "        resumen=r.T\n",
    "\n",
    "        try: t_win=r['Dias Total']['Ganador']\n",
    "        except: t_win=0\n",
    "\n",
    "        try: t_loss=r['Dias Total']['Perdedor']\n",
    "        except: t_loss=0 \n",
    "        \n",
    "        t=t_win+t_loss\n",
    "        tea=(resultado+1)**(365/t)-1 if t > 0 else 0\n",
    "\n",
    "        metricas={'rendimiento':round(resultado,4),'dias_in':round(t,4),'TEA':round(tea,4)}\n",
    "    else:\n",
    "        resumen=pd.DataFrame()\n",
    "        metricas={'rendimiento':0,'dias_in':0,'TEA':0}\n",
    "\n",
    "    return resumen,metricas\n",
    "        "
   ]
  },
  {
   "cell_type": "code",
   "execution_count": 36,
   "metadata": {},
   "outputs": [],
   "source": [
    "def plotControl(data, actions):\n",
    "        \n",
    "        df = data.iloc[:]\n",
    "        compras = actions.loc[actions.gatillo == 'compra']\n",
    "        ventas = actions.loc[actions.gatillo == 'venta']\n",
    "\n",
    "        fig, ax = plt.subplots(figsize=(12, 6))\n",
    "\n",
    "        ax.plot(df.AdjClose, '--k', alpha=0.4, lw=1, label='Precio')\n",
    "\n",
    "        ax.plot(compras.AdjClose * 0.95, marker='^', lw=0,markersize=10, color='k', label='Compras')\n",
    "        ax.plot(ventas.AdjClose * 0.95, marker='v', lw=0,markersize=10, color='red', label='Ventas')\n",
    "        ax.legend()\n",
    "        ax.set_yscale('log')\n",
    "        ax.grid(axis='both')\n",
    "\n",
    "        return\n"
   ]
  },
  {
   "cell_type": "code",
   "execution_count": 37,
   "metadata": {},
   "outputs": [
    {
     "data": {
      "text/plain": [
       "(resultado                Ganador    Perdedor\n",
       " Cantidad                7.000000    4.000000\n",
       " Rendimiento x Trade     0.922483   -0.074515\n",
       " Dias Total           1606.000000  692.000000\n",
       " Dias x Trade          229.428571  173.000000,\n",
       " {'rendimiento': 29.8979, 'dias_in': 2298, 'TEA': 0.7245})"
      ]
     },
     "execution_count": 37,
     "metadata": {},
     "output_type": "execute_result"
    }
   ],
   "source": [
    "data=getData(ticker='TSLA',data_from='2011-01-01',data_to='2020-12-31')\n",
    "features=getFeatures(data,n_obv=100,n_sigma=40,n_rsi=15,fast=20,slow=60)\n",
    "actions=getActions(features,trig_buy_cross=0,trig_buy_rsi=65,trig_buy_sigma=0.01,trig_sell_cross=-0.01,trig_sell_rsi=55,trig_sell_obv=0)\n",
    "trades=getTrades(actions)\n",
    "resumen(trades)"
   ]
  },
  {
   "cell_type": "code",
   "execution_count": 38,
   "metadata": {},
   "outputs": [
    {
     "data": {
      "image/png": "[encoded data removed]",
      "text/plain": [
       "<Figure size 864x432 with 1 Axes>"
      ]
     },
     "metadata": {
      "needs_background": "light"
     },
     "output_type": "display_data"
    }
   ],
   "source": [
    "plotControl(data,actions)"
   ]
  },
  {
   "cell_type": "markdown",
   "metadata": {},
   "source": [
    "## Parametrizacion\n",
    "\n",
    "* Parametrizacion de features\n",
    "* Parametrizacion de gatillos\n",
    "* PCA\n",
    "\n",
    "Clave es minimizar la varianza de los parametros en las simulaciones, y no tanto maximizar TEA."
   ]
  },
  {
   "cell_type": "markdown",
   "metadata": {},
   "source": [
    "### Parametrizacion de features\n",
    "\n",
    "Se trata de buscar una zona óptima clara (no un valor sino una zona de valores similares), una zona no tan sensible, coherencia (si se quiere maximizar tasa y reducir tiemp invertido, se usará el mismo criterio en todos los parámetros)"
   ]
  },
  {
   "cell_type": "code",
   "execution_count": 39,
   "metadata": {},
   "outputs": [
    {
     "data": {
      "text/plain": [
       "(resultado                Ganador    Perdedor\n",
       " Cantidad                7.000000    4.000000\n",
       " Rendimiento x Trade     0.922483   -0.074515\n",
       " Dias Total           1606.000000  692.000000\n",
       " Dias x Trade          229.428571  173.000000,\n",
       " {'rendimiento': 29.8979, 'dias_in': 2298, 'TEA': 0.7245})"
      ]
     },
     "execution_count": 39,
     "metadata": {},
     "output_type": "execute_result"
    }
   ],
   "source": [
    "#CONTROL\n",
    "data=getData(ticker='TSLA',data_from='2011-01-01',data_to='2020-12-31')\n",
    "features=getFeatures(data,n_obv=100,n_sigma=40,n_rsi=15,fast=20,slow=60)\n",
    "actions=getActions(features,trig_buy_cross=0,trig_buy_rsi=65,trig_buy_sigma=0.01,trig_sell_cross=-0.01,trig_sell_rsi=55,trig_sell_obv=0)\n",
    "trades=getTrades(actions)\n",
    "resumen(trades)"
   ]
  },
  {
   "cell_type": "code",
   "execution_count": 40,
   "metadata": {},
   "outputs": [
    {
     "data": {
      "text/html": [
       "<div>\n",
       "<style scoped>\n",
       "    .dataframe tbody tr th:only-of-type {\n",
       "        vertical-align: middle;\n",
       "    }\n",
       "\n",
       "    .dataframe tbody tr th {\n",
       "        vertical-align: top;\n",
       "    }\n",
       "\n",
       "    .dataframe thead th {\n",
       "        text-align: right;\n",
       "    }\n",
       "</style>\n",
       "<table border=\"1\" class=\"dataframe\">\n",
       "  <thead>\n",
       "    <tr style=\"text-align: right;\">\n",
       "      <th></th>\n",
       "      <th>rendimiento</th>\n",
       "      <th>dias_in</th>\n",
       "      <th>TEA</th>\n",
       "      <th>ventana_RSI</th>\n",
       "    </tr>\n",
       "  </thead>\n",
       "  <tbody>\n",
       "    <tr>\n",
       "      <th>0</th>\n",
       "      <td>20.1139</td>\n",
       "      <td>2714</td>\n",
       "      <td>0.5071</td>\n",
       "      <td>5</td>\n",
       "    </tr>\n",
       "    <tr>\n",
       "      <th>1</th>\n",
       "      <td>21.0241</td>\n",
       "      <td>2699</td>\n",
       "      <td>0.5192</td>\n",
       "      <td>6</td>\n",
       "    </tr>\n",
       "    <tr>\n",
       "      <th>2</th>\n",
       "      <td>21.8261</td>\n",
       "      <td>2683</td>\n",
       "      <td>0.5304</td>\n",
       "      <td>7</td>\n",
       "    </tr>\n",
       "    <tr>\n",
       "      <th>3</th>\n",
       "      <td>29.2967</td>\n",
       "      <td>2524</td>\n",
       "      <td>0.6377</td>\n",
       "      <td>8</td>\n",
       "    </tr>\n",
       "    <tr>\n",
       "      <th>4</th>\n",
       "      <td>22.6452</td>\n",
       "      <td>2483</td>\n",
       "      <td>0.5920</td>\n",
       "      <td>9</td>\n",
       "    </tr>\n",
       "    <tr>\n",
       "      <th>...</th>\n",
       "      <td>...</td>\n",
       "      <td>...</td>\n",
       "      <td>...</td>\n",
       "      <td>...</td>\n",
       "    </tr>\n",
       "    <tr>\n",
       "      <th>110</th>\n",
       "      <td>-0.5491</td>\n",
       "      <td>251</td>\n",
       "      <td>-0.6859</td>\n",
       "      <td>115</td>\n",
       "    </tr>\n",
       "    <tr>\n",
       "      <th>111</th>\n",
       "      <td>-0.6297</td>\n",
       "      <td>243</td>\n",
       "      <td>-0.7751</td>\n",
       "      <td>116</td>\n",
       "    </tr>\n",
       "    <tr>\n",
       "      <th>112</th>\n",
       "      <td>-0.6297</td>\n",
       "      <td>243</td>\n",
       "      <td>-0.7751</td>\n",
       "      <td>117</td>\n",
       "    </tr>\n",
       "    <tr>\n",
       "      <th>113</th>\n",
       "      <td>-0.6297</td>\n",
       "      <td>243</td>\n",
       "      <td>-0.7751</td>\n",
       "      <td>118</td>\n",
       "    </tr>\n",
       "    <tr>\n",
       "      <th>114</th>\n",
       "      <td>-0.6297</td>\n",
       "      <td>243</td>\n",
       "      <td>-0.7751</td>\n",
       "      <td>119</td>\n",
       "    </tr>\n",
       "  </tbody>\n",
       "</table>\n",
       "<p>115 rows × 4 columns</p>\n",
       "</div>"
      ],
      "text/plain": [
       "     rendimiento  dias_in     TEA  ventana_RSI\n",
       "0        20.1139     2714  0.5071            5\n",
       "1        21.0241     2699  0.5192            6\n",
       "2        21.8261     2683  0.5304            7\n",
       "3        29.2967     2524  0.6377            8\n",
       "4        22.6452     2483  0.5920            9\n",
       "..           ...      ...     ...          ...\n",
       "110      -0.5491      251 -0.6859          115\n",
       "111      -0.6297      243 -0.7751          116\n",
       "112      -0.6297      243 -0.7751          117\n",
       "113      -0.6297      243 -0.7751          118\n",
       "114      -0.6297      243 -0.7751          119\n",
       "\n",
       "[115 rows x 4 columns]"
      ]
     },
     "execution_count": 40,
     "metadata": {},
     "output_type": "execute_result"
    }
   ],
   "source": [
    "# Optimizo el RSI (original de 15 velas)\n",
    "l=[]\n",
    "for i in range(5,120):\n",
    "    features=getFeatures(data,n_obv=125,n_sigma=40,n_rsi=i,fast=20,slow=60)\n",
    "    actions=getActions(features,trig_buy_cross=0,trig_buy_rsi=65,trig_buy_sigma=0.01,trig_sell_cross=-0.01,trig_sell_rsi=55,trig_sell_obv=0)\n",
    "    trades=getTrades(actions)\n",
    "    resultados_df,resultados_dict=resumen(trades)\n",
    "    resultados_dict['ventana_RSI']=i\n",
    "    l.append(resultados_dict)\n",
    "\n",
    "results=pd.DataFrame(l)\n",
    "results"
   ]
  },
  {
   "cell_type": "code",
   "execution_count": 41,
   "metadata": {},
   "outputs": [
    {
     "data": {
      "text/plain": [
       "Text(0.5, 1.0, 'Parametrización RSI')"
      ]
     },
     "execution_count": 41,
     "metadata": {},
     "output_type": "execute_result"
    },
    {
     "data": {
      "image/png": "[encoded data removed]",
      "text/plain": [
       "<Figure size 720x432 with 2 Axes>"
      ]
     },
     "metadata": {
      "needs_background": "light"
     },
     "output_type": "display_data"
    }
   ],
   "source": [
    "fig,ax=plt.subplots(figsize=(10,6))\n",
    "ax.plot(results.ventana_RSI,results.TEA,color='k',label='TEA \\nEje izquierdo')\n",
    "ax.legend(loc='lower left')\n",
    "ax.grid(color='gray',alpha=0.2)\n",
    "\n",
    "ax2=ax.twinx()\n",
    "ax2.plot(results.ventana_RSI,results.dias_in,color='silver',label='Dias invertido \\nEje derecho')\n",
    "ax2.legend(loc='upper right')\n",
    "\n",
    "ax.set_title('Parametrización RSI')\n"
   ]
  },
  {
   "cell_type": "code",
   "execution_count": 42,
   "metadata": {},
   "outputs": [
    {
     "data": {
      "text/html": [
       "<div>\n",
       "<style scoped>\n",
       "    .dataframe tbody tr th:only-of-type {\n",
       "        vertical-align: middle;\n",
       "    }\n",
       "\n",
       "    .dataframe tbody tr th {\n",
       "        vertical-align: top;\n",
       "    }\n",
       "\n",
       "    .dataframe thead th {\n",
       "        text-align: right;\n",
       "    }\n",
       "</style>\n",
       "<table border=\"1\" class=\"dataframe\">\n",
       "  <thead>\n",
       "    <tr style=\"text-align: right;\">\n",
       "      <th></th>\n",
       "      <th>rendimiento</th>\n",
       "      <th>dias_in</th>\n",
       "      <th>TEA</th>\n",
       "      <th>ventana_OBV</th>\n",
       "    </tr>\n",
       "  </thead>\n",
       "  <tbody>\n",
       "    <tr>\n",
       "      <th>0</th>\n",
       "      <td>4.9733</td>\n",
       "      <td>1774</td>\n",
       "      <td>0.4445</td>\n",
       "      <td>10</td>\n",
       "    </tr>\n",
       "    <tr>\n",
       "      <th>1</th>\n",
       "      <td>5.1152</td>\n",
       "      <td>1786</td>\n",
       "      <td>0.4478</td>\n",
       "      <td>11</td>\n",
       "    </tr>\n",
       "    <tr>\n",
       "      <th>2</th>\n",
       "      <td>5.2365</td>\n",
       "      <td>1790</td>\n",
       "      <td>0.4524</td>\n",
       "      <td>12</td>\n",
       "    </tr>\n",
       "    <tr>\n",
       "      <th>3</th>\n",
       "      <td>5.2796</td>\n",
       "      <td>1793</td>\n",
       "      <td>0.4536</td>\n",
       "      <td>13</td>\n",
       "    </tr>\n",
       "    <tr>\n",
       "      <th>4</th>\n",
       "      <td>5.2796</td>\n",
       "      <td>1793</td>\n",
       "      <td>0.4536</td>\n",
       "      <td>14</td>\n",
       "    </tr>\n",
       "    <tr>\n",
       "      <th>...</th>\n",
       "      <td>...</td>\n",
       "      <td>...</td>\n",
       "      <td>...</td>\n",
       "      <td>...</td>\n",
       "    </tr>\n",
       "    <tr>\n",
       "      <th>235</th>\n",
       "      <td>18.7452</td>\n",
       "      <td>2191</td>\n",
       "      <td>0.6437</td>\n",
       "      <td>245</td>\n",
       "    </tr>\n",
       "    <tr>\n",
       "      <th>236</th>\n",
       "      <td>18.7452</td>\n",
       "      <td>2191</td>\n",
       "      <td>0.6437</td>\n",
       "      <td>246</td>\n",
       "    </tr>\n",
       "    <tr>\n",
       "      <th>237</th>\n",
       "      <td>16.5207</td>\n",
       "      <td>2375</td>\n",
       "      <td>0.5528</td>\n",
       "      <td>247</td>\n",
       "    </tr>\n",
       "    <tr>\n",
       "      <th>238</th>\n",
       "      <td>16.5207</td>\n",
       "      <td>2375</td>\n",
       "      <td>0.5528</td>\n",
       "      <td>248</td>\n",
       "    </tr>\n",
       "    <tr>\n",
       "      <th>239</th>\n",
       "      <td>16.5207</td>\n",
       "      <td>2375</td>\n",
       "      <td>0.5528</td>\n",
       "      <td>249</td>\n",
       "    </tr>\n",
       "  </tbody>\n",
       "</table>\n",
       "<p>240 rows × 4 columns</p>\n",
       "</div>"
      ],
      "text/plain": [
       "     rendimiento  dias_in     TEA  ventana_OBV\n",
       "0         4.9733     1774  0.4445           10\n",
       "1         5.1152     1786  0.4478           11\n",
       "2         5.2365     1790  0.4524           12\n",
       "3         5.2796     1793  0.4536           13\n",
       "4         5.2796     1793  0.4536           14\n",
       "..           ...      ...     ...          ...\n",
       "235      18.7452     2191  0.6437          245\n",
       "236      18.7452     2191  0.6437          246\n",
       "237      16.5207     2375  0.5528          247\n",
       "238      16.5207     2375  0.5528          248\n",
       "239      16.5207     2375  0.5528          249\n",
       "\n",
       "[240 rows x 4 columns]"
      ]
     },
     "execution_count": 42,
     "metadata": {},
     "output_type": "execute_result"
    }
   ],
   "source": [
    "# Optimizo el OBV (original de 100 velas)\n",
    "l=[]\n",
    "for i in range(10,250):\n",
    "    features=getFeatures(data,n_obv=i,n_sigma=40,n_rsi=15,fast=20,slow=60)\n",
    "    actions=getActions(features,trig_buy_cross=0,trig_buy_rsi=65,trig_buy_sigma=0.01,trig_sell_cross=-0.01,trig_sell_rsi=55,trig_sell_obv=0)\n",
    "    trades=getTrades(actions)\n",
    "    resultados_df,resultados_dict=resumen(trades)\n",
    "    resultados_dict['ventana_OBV']=i\n",
    "    l.append(resultados_dict)\n",
    "\n",
    "results=pd.DataFrame(l)\n",
    "results"
   ]
  },
  {
   "cell_type": "code",
   "execution_count": 43,
   "metadata": {},
   "outputs": [
    {
     "data": {
      "text/plain": [
       "Text(0.5, 1.0, 'Parametrización OBV')"
      ]
     },
     "execution_count": 43,
     "metadata": {},
     "output_type": "execute_result"
    },
    {
     "data": {
      "image/png": "[encoded data removed]",
      "text/plain": [
       "<Figure size 720x432 with 2 Axes>"
      ]
     },
     "metadata": {
      "needs_background": "light"
     },
     "output_type": "display_data"
    }
   ],
   "source": [
    "fig,ax=plt.subplots(figsize=(10,6))\n",
    "ax.plot(results.ventana_OBV,results.TEA,color='k',label='TEA \\nEje izquierdo')\n",
    "ax.legend(loc='upper left')\n",
    "ax.grid(color='gray',alpha=0.2)\n",
    "\n",
    "ax2=ax.twinx()\n",
    "ax2.plot(results.ventana_OBV,results.dias_in,color='silver',label='Dias invertido \\nEje derecho')\n",
    "ax2.legend(loc='upper right')\n",
    "\n",
    "ax.set_title('Parametrización OBV')\n"
   ]
  },
  {
   "cell_type": "code",
   "execution_count": 44,
   "metadata": {},
   "outputs": [
    {
     "name": "stdout",
     "output_type": "stream",
     "text": [
      "Cruce: 49 - 145       \r"
     ]
    },
    {
     "data": {
      "text/html": [
       "<div>\n",
       "<style scoped>\n",
       "    .dataframe tbody tr th:only-of-type {\n",
       "        vertical-align: middle;\n",
       "    }\n",
       "\n",
       "    .dataframe tbody tr th {\n",
       "        vertical-align: top;\n",
       "    }\n",
       "\n",
       "    .dataframe thead th {\n",
       "        text-align: right;\n",
       "    }\n",
       "</style>\n",
       "<table border=\"1\" class=\"dataframe\">\n",
       "  <thead>\n",
       "    <tr style=\"text-align: right;\">\n",
       "      <th></th>\n",
       "      <th>rendimiento</th>\n",
       "      <th>dias_in</th>\n",
       "      <th>TEA</th>\n",
       "      <th>fast</th>\n",
       "      <th>slow</th>\n",
       "    </tr>\n",
       "  </thead>\n",
       "  <tbody>\n",
       "    <tr>\n",
       "      <th>0</th>\n",
       "      <td>5.6814</td>\n",
       "      <td>556</td>\n",
       "      <td>2.4794</td>\n",
       "      <td>5</td>\n",
       "      <td>6</td>\n",
       "    </tr>\n",
       "    <tr>\n",
       "      <th>1</th>\n",
       "      <td>4.5001</td>\n",
       "      <td>514</td>\n",
       "      <td>2.3554</td>\n",
       "      <td>5</td>\n",
       "      <td>11</td>\n",
       "    </tr>\n",
       "    <tr>\n",
       "      <th>2</th>\n",
       "      <td>5.9924</td>\n",
       "      <td>564</td>\n",
       "      <td>2.5206</td>\n",
       "      <td>5</td>\n",
       "      <td>16</td>\n",
       "    </tr>\n",
       "    <tr>\n",
       "      <th>3</th>\n",
       "      <td>6.0690</td>\n",
       "      <td>572</td>\n",
       "      <td>2.4833</td>\n",
       "      <td>5</td>\n",
       "      <td>21</td>\n",
       "    </tr>\n",
       "    <tr>\n",
       "      <th>4</th>\n",
       "      <td>6.0690</td>\n",
       "      <td>572</td>\n",
       "      <td>2.4833</td>\n",
       "      <td>5</td>\n",
       "      <td>26</td>\n",
       "    </tr>\n",
       "    <tr>\n",
       "      <th>...</th>\n",
       "      <td>...</td>\n",
       "      <td>...</td>\n",
       "      <td>...</td>\n",
       "      <td>...</td>\n",
       "      <td>...</td>\n",
       "    </tr>\n",
       "    <tr>\n",
       "      <th>895</th>\n",
       "      <td>0.5488</td>\n",
       "      <td>1259</td>\n",
       "      <td>0.1352</td>\n",
       "      <td>49</td>\n",
       "      <td>125</td>\n",
       "    </tr>\n",
       "    <tr>\n",
       "      <th>896</th>\n",
       "      <td>0.7610</td>\n",
       "      <td>1262</td>\n",
       "      <td>0.1778</td>\n",
       "      <td>49</td>\n",
       "      <td>130</td>\n",
       "    </tr>\n",
       "    <tr>\n",
       "      <th>897</th>\n",
       "      <td>0.7304</td>\n",
       "      <td>1270</td>\n",
       "      <td>0.1707</td>\n",
       "      <td>49</td>\n",
       "      <td>135</td>\n",
       "    </tr>\n",
       "    <tr>\n",
       "      <th>898</th>\n",
       "      <td>0.6944</td>\n",
       "      <td>1271</td>\n",
       "      <td>0.1635</td>\n",
       "      <td>49</td>\n",
       "      <td>140</td>\n",
       "    </tr>\n",
       "    <tr>\n",
       "      <th>899</th>\n",
       "      <td>0.6562</td>\n",
       "      <td>1281</td>\n",
       "      <td>0.1546</td>\n",
       "      <td>49</td>\n",
       "      <td>145</td>\n",
       "    </tr>\n",
       "  </tbody>\n",
       "</table>\n",
       "<p>900 rows × 5 columns</p>\n",
       "</div>"
      ],
      "text/plain": [
       "     rendimiento  dias_in     TEA  fast  slow\n",
       "0         5.6814      556  2.4794     5     6\n",
       "1         4.5001      514  2.3554     5    11\n",
       "2         5.9924      564  2.5206     5    16\n",
       "3         6.0690      572  2.4833     5    21\n",
       "4         6.0690      572  2.4833     5    26\n",
       "..           ...      ...     ...   ...   ...\n",
       "895       0.5488     1259  0.1352    49   125\n",
       "896       0.7610     1262  0.1778    49   130\n",
       "897       0.7304     1270  0.1707    49   135\n",
       "898       0.6944     1271  0.1635    49   140\n",
       "899       0.6562     1281  0.1546    49   145\n",
       "\n",
       "[900 rows x 5 columns]"
      ]
     },
     "execution_count": 44,
     "metadata": {},
     "output_type": "execute_result"
    }
   ],
   "source": [
    "# Optimizo SMA  (original de fast=20 y slow=60)\n",
    "l=[]\n",
    "for fast in range(5,50):\n",
    "    for slow in range(fast+1,fast+100,5):\n",
    "        print(f'Cruce: {fast} - {slow}       ',end='\\r')\n",
    "        features=getFeatures(data,n_obv=125,n_sigma=40,n_rsi=50,fast=fast,slow=slow)\n",
    "        actions=getActions(features,trig_buy_cross=0,trig_buy_rsi=65,trig_buy_sigma=0.01,trig_sell_cross=-0.01,trig_sell_rsi=55,trig_sell_obv=0)\n",
    "        trades=getTrades(actions)\n",
    "        resultados_df,resultados_dict=resumen(trades)\n",
    "        resultados_dict['fast']=fast\n",
    "        resultados_dict['slow']=slow\n",
    "        l.append(resultados_dict)\n",
    "\n",
    "results=pd.DataFrame(l)\n",
    "results"
   ]
  },
  {
   "cell_type": "code",
   "execution_count": 45,
   "metadata": {},
   "outputs": [
    {
     "data": {
      "text/html": [
       "<div>\n",
       "<style scoped>\n",
       "    .dataframe tbody tr th:only-of-type {\n",
       "        vertical-align: middle;\n",
       "    }\n",
       "\n",
       "    .dataframe tbody tr th {\n",
       "        vertical-align: top;\n",
       "    }\n",
       "\n",
       "    .dataframe thead th {\n",
       "        text-align: right;\n",
       "    }\n",
       "</style>\n",
       "<table border=\"1\" class=\"dataframe\">\n",
       "  <thead>\n",
       "    <tr style=\"text-align: right;\">\n",
       "      <th></th>\n",
       "      <th>fast</th>\n",
       "      <th>slow</th>\n",
       "    </tr>\n",
       "  </thead>\n",
       "  <tbody>\n",
       "    <tr>\n",
       "      <th>mean</th>\n",
       "      <td>8.950000</td>\n",
       "      <td>20.20000</td>\n",
       "    </tr>\n",
       "    <tr>\n",
       "      <th>std</th>\n",
       "      <td>4.135533</td>\n",
       "      <td>6.36272</td>\n",
       "    </tr>\n",
       "  </tbody>\n",
       "</table>\n",
       "</div>"
      ],
      "text/plain": [
       "          fast      slow\n",
       "mean  8.950000  20.20000\n",
       "std   4.135533   6.36272"
      ]
     },
     "execution_count": 45,
     "metadata": {},
     "output_type": "execute_result"
    }
   ],
   "source": [
    "top20=results.dropna().sort_values('TEA',ascending=False).head(20)\n",
    "top20\n",
    "top20.describe().iloc[1:3,3:]"
   ]
  },
  {
   "cell_type": "markdown",
   "metadata": {},
   "source": [
    "### Parametrización de gatillos\n",
    "\n",
    "Lo más importante nos es maximizar TEA, sino minimizar la varianza de los parámetros en las simulaciones."
   ]
  },
  {
   "cell_type": "code",
   "execution_count": 46,
   "metadata": {},
   "outputs": [],
   "source": [
    "# Seleccionar rangos en función de la variablidad de cada feature\n",
    "\n",
    "samples={'trig_buy_sigma': [i/500 for i in range(20)],\n",
    "        'trig_buy_rsi': [i for i in range(50,75)],  \n",
    "        'trig_buy_cross': [-0.05 + i/100 for i in range(20)],\n",
    "        'trig_sell_rsi': [i for i in range(40,60)],\n",
    "        'trig_sell_cross': [-0.1 +i/100 for i in range(20)],\n",
    "        'trig_sell_obv': [-2 + i/10 for i in range(40)]  }\n",
    "\n",
    "def getTriggers():\n",
    "    triggers={}\n",
    "    for key in samples.keys():\n",
    "        triggers[key]=round(random.choice(samples[key]),4)\n",
    "    return triggers\n"
   ]
  },
  {
   "cell_type": "code",
   "execution_count": 47,
   "metadata": {},
   "outputs": [
    {
     "name": "stderr",
     "output_type": "stream",
     "text": [
      "C:\\Users\\Usuario\\AppData\\Local\\Temp/ipykernel_16912/3735402372.py:21: RuntimeWarning: invalid value encountered in double_scalars\n",
      "  tea=(resultado+1)**(365/t)-1 if t > 0 else 0\n"
     ]
    },
    {
     "data": {
      "text/html": [
       "<div>\n",
       "<style scoped>\n",
       "    .dataframe tbody tr th:only-of-type {\n",
       "        vertical-align: middle;\n",
       "    }\n",
       "\n",
       "    .dataframe tbody tr th {\n",
       "        vertical-align: top;\n",
       "    }\n",
       "\n",
       "    .dataframe thead th {\n",
       "        text-align: right;\n",
       "    }\n",
       "</style>\n",
       "<table border=\"1\" class=\"dataframe\">\n",
       "  <thead>\n",
       "    <tr style=\"text-align: right;\">\n",
       "      <th></th>\n",
       "      <th>rendimiento</th>\n",
       "      <th>dias_in</th>\n",
       "      <th>TEA</th>\n",
       "      <th>trig_buy_sigma</th>\n",
       "      <th>trig_buy_rsi</th>\n",
       "      <th>trig_buy_cross</th>\n",
       "      <th>trig_sell_rsi</th>\n",
       "      <th>trig_sell_cross</th>\n",
       "      <th>trig_sell_obv</th>\n",
       "    </tr>\n",
       "  </thead>\n",
       "  <tbody>\n",
       "    <tr>\n",
       "      <th>0</th>\n",
       "      <td>-0.0788</td>\n",
       "      <td>1010</td>\n",
       "      <td>-0.0292</td>\n",
       "      <td>0.038</td>\n",
       "      <td>62</td>\n",
       "      <td>0.13</td>\n",
       "      <td>41</td>\n",
       "      <td>0.02</td>\n",
       "      <td>-1.0</td>\n",
       "    </tr>\n",
       "    <tr>\n",
       "      <th>1</th>\n",
       "      <td>-1.3587</td>\n",
       "      <td>233</td>\n",
       "      <td>NaN</td>\n",
       "      <td>0.014</td>\n",
       "      <td>67</td>\n",
       "      <td>0.13</td>\n",
       "      <td>44</td>\n",
       "      <td>-0.05</td>\n",
       "      <td>-1.9</td>\n",
       "    </tr>\n",
       "    <tr>\n",
       "      <th>2</th>\n",
       "      <td>44.9596</td>\n",
       "      <td>2524</td>\n",
       "      <td>0.7394</td>\n",
       "      <td>0.006</td>\n",
       "      <td>58</td>\n",
       "      <td>-0.05</td>\n",
       "      <td>54</td>\n",
       "      <td>0.06</td>\n",
       "      <td>1.4</td>\n",
       "    </tr>\n",
       "    <tr>\n",
       "      <th>3</th>\n",
       "      <td>18.0830</td>\n",
       "      <td>574</td>\n",
       "      <td>5.5215</td>\n",
       "      <td>0.038</td>\n",
       "      <td>57</td>\n",
       "      <td>0.01</td>\n",
       "      <td>59</td>\n",
       "      <td>0.05</td>\n",
       "      <td>-1.9</td>\n",
       "    </tr>\n",
       "    <tr>\n",
       "      <th>4</th>\n",
       "      <td>5.3869</td>\n",
       "      <td>470</td>\n",
       "      <td>3.2207</td>\n",
       "      <td>0.028</td>\n",
       "      <td>66</td>\n",
       "      <td>0.07</td>\n",
       "      <td>53</td>\n",
       "      <td>0.06</td>\n",
       "      <td>-1.0</td>\n",
       "    </tr>\n",
       "    <tr>\n",
       "      <th>...</th>\n",
       "      <td>...</td>\n",
       "      <td>...</td>\n",
       "      <td>...</td>\n",
       "      <td>...</td>\n",
       "      <td>...</td>\n",
       "      <td>...</td>\n",
       "      <td>...</td>\n",
       "      <td>...</td>\n",
       "      <td>...</td>\n",
       "    </tr>\n",
       "    <tr>\n",
       "      <th>4995</th>\n",
       "      <td>10.8728</td>\n",
       "      <td>530</td>\n",
       "      <td>4.4957</td>\n",
       "      <td>0.014</td>\n",
       "      <td>72</td>\n",
       "      <td>-0.03</td>\n",
       "      <td>59</td>\n",
       "      <td>0.09</td>\n",
       "      <td>1.8</td>\n",
       "    </tr>\n",
       "    <tr>\n",
       "      <th>4996</th>\n",
       "      <td>0.0000</td>\n",
       "      <td>0</td>\n",
       "      <td>0.0000</td>\n",
       "      <td>0.012</td>\n",
       "      <td>53</td>\n",
       "      <td>-0.05</td>\n",
       "      <td>48</td>\n",
       "      <td>0.06</td>\n",
       "      <td>1.8</td>\n",
       "    </tr>\n",
       "    <tr>\n",
       "      <th>4997</th>\n",
       "      <td>0.5385</td>\n",
       "      <td>1012</td>\n",
       "      <td>0.1681</td>\n",
       "      <td>0.038</td>\n",
       "      <td>66</td>\n",
       "      <td>-0.04</td>\n",
       "      <td>41</td>\n",
       "      <td>0.05</td>\n",
       "      <td>-1.6</td>\n",
       "    </tr>\n",
       "    <tr>\n",
       "      <th>4998</th>\n",
       "      <td>1.7333</td>\n",
       "      <td>1523</td>\n",
       "      <td>0.2725</td>\n",
       "      <td>0.000</td>\n",
       "      <td>65</td>\n",
       "      <td>0.14</td>\n",
       "      <td>53</td>\n",
       "      <td>-0.03</td>\n",
       "      <td>1.8</td>\n",
       "    </tr>\n",
       "    <tr>\n",
       "      <th>4999</th>\n",
       "      <td>7.0319</td>\n",
       "      <td>1440</td>\n",
       "      <td>0.6957</td>\n",
       "      <td>0.036</td>\n",
       "      <td>52</td>\n",
       "      <td>0.03</td>\n",
       "      <td>51</td>\n",
       "      <td>0.05</td>\n",
       "      <td>0.2</td>\n",
       "    </tr>\n",
       "  </tbody>\n",
       "</table>\n",
       "<p>5000 rows × 9 columns</p>\n",
       "</div>"
      ],
      "text/plain": [
       "      rendimiento  dias_in     TEA  trig_buy_sigma  trig_buy_rsi  \\\n",
       "0         -0.0788     1010 -0.0292           0.038            62   \n",
       "1         -1.3587      233     NaN           0.014            67   \n",
       "2         44.9596     2524  0.7394           0.006            58   \n",
       "3         18.0830      574  5.5215           0.038            57   \n",
       "4          5.3869      470  3.2207           0.028            66   \n",
       "...           ...      ...     ...             ...           ...   \n",
       "4995      10.8728      530  4.4957           0.014            72   \n",
       "4996       0.0000        0  0.0000           0.012            53   \n",
       "4997       0.5385     1012  0.1681           0.038            66   \n",
       "4998       1.7333     1523  0.2725           0.000            65   \n",
       "4999       7.0319     1440  0.6957           0.036            52   \n",
       "\n",
       "      trig_buy_cross  trig_sell_rsi  trig_sell_cross  trig_sell_obv  \n",
       "0               0.13             41             0.02           -1.0  \n",
       "1               0.13             44            -0.05           -1.9  \n",
       "2              -0.05             54             0.06            1.4  \n",
       "3               0.01             59             0.05           -1.9  \n",
       "4               0.07             53             0.06           -1.0  \n",
       "...              ...            ...              ...            ...  \n",
       "4995           -0.03             59             0.09            1.8  \n",
       "4996           -0.05             48             0.06            1.8  \n",
       "4997           -0.04             41             0.05           -1.6  \n",
       "4998            0.14             53            -0.03            1.8  \n",
       "4999            0.03             51             0.05            0.2  \n",
       "\n",
       "[5000 rows x 9 columns]"
      ]
     },
     "execution_count": 47,
     "metadata": {},
     "output_type": "execute_result"
    }
   ],
   "source": [
    "features=getFeatures(data,n_obv=125,n_sigma=40,n_rsi=45,fast=15,slow=30)\n",
    "\n",
    "l=[]\n",
    "for sample in range(5000):\n",
    "\n",
    "    triggers=getTriggers()\n",
    "    actions=getActions(features, trig_buy_cross=triggers['trig_buy_cross'],\n",
    "                                trig_buy_rsi=triggers['trig_buy_rsi'],\n",
    "                                trig_buy_sigma=triggers['trig_buy_sigma'],\n",
    "                                trig_sell_cross=triggers['trig_sell_cross'],\n",
    "                                trig_sell_rsi=triggers['trig_sell_rsi'],\n",
    "                                trig_sell_obv=triggers['trig_sell_obv'])\n",
    "    \n",
    "    trades=getTrades(actions)\n",
    "    resultados_df,resultados_dict=resumen(trades)\n",
    "\n",
    "    for key in samples.keys():\n",
    "        resultados_dict[key]=triggers[key]\n",
    "    \n",
    "    l.append(resultados_dict)\n",
    "\n",
    "results=pd.DataFrame(l)\n",
    "results\n"
   ]
  },
  {
   "cell_type": "code",
   "execution_count": 48,
   "metadata": {},
   "outputs": [
    {
     "data": {
      "text/html": [
       "<div>\n",
       "<style scoped>\n",
       "    .dataframe tbody tr th:only-of-type {\n",
       "        vertical-align: middle;\n",
       "    }\n",
       "\n",
       "    .dataframe tbody tr th {\n",
       "        vertical-align: top;\n",
       "    }\n",
       "\n",
       "    .dataframe thead th {\n",
       "        text-align: right;\n",
       "    }\n",
       "</style>\n",
       "<table border=\"1\" class=\"dataframe\">\n",
       "  <thead>\n",
       "    <tr style=\"text-align: right;\">\n",
       "      <th></th>\n",
       "      <th>trig_buy_sigma</th>\n",
       "      <th>trig_buy_rsi</th>\n",
       "      <th>trig_buy_cross</th>\n",
       "      <th>trig_sell_rsi</th>\n",
       "      <th>trig_sell_cross</th>\n",
       "      <th>trig_sell_obv</th>\n",
       "    </tr>\n",
       "  </thead>\n",
       "  <tbody>\n",
       "    <tr>\n",
       "      <th>mean</th>\n",
       "      <td>0.031400</td>\n",
       "      <td>60.100000</td>\n",
       "      <td>0.01250</td>\n",
       "      <td>57.400000</td>\n",
       "      <td>0.031500</td>\n",
       "      <td>-0.560000</td>\n",
       "    </tr>\n",
       "    <tr>\n",
       "      <th>std</th>\n",
       "      <td>0.008732</td>\n",
       "      <td>3.596782</td>\n",
       "      <td>0.05665</td>\n",
       "      <td>1.698296</td>\n",
       "      <td>0.033131</td>\n",
       "      <td>0.784991</td>\n",
       "    </tr>\n",
       "  </tbody>\n",
       "</table>\n",
       "</div>"
      ],
      "text/plain": [
       "      trig_buy_sigma  trig_buy_rsi  trig_buy_cross  trig_sell_rsi  \\\n",
       "mean        0.031400     60.100000         0.01250      57.400000   \n",
       "std         0.008732      3.596782         0.05665       1.698296   \n",
       "\n",
       "      trig_sell_cross  trig_sell_obv  \n",
       "mean         0.031500      -0.560000  \n",
       "std          0.033131       0.784991  "
      ]
     },
     "execution_count": 48,
     "metadata": {},
     "output_type": "execute_result"
    }
   ],
   "source": [
    "top20=results.dropna().sort_values('TEA',ascending=False).head(20)\n",
    "top20\n",
    "top20.describe().iloc[1:3,3:]"
   ]
  },
  {
   "cell_type": "code",
   "execution_count": 49,
   "metadata": {},
   "outputs": [
    {
     "data": {
      "text/plain": [
       "{'rendimiento': 18.5014, 'dias_in': 635, 'TEA': 4.5149}"
      ]
     },
     "execution_count": 49,
     "metadata": {},
     "output_type": "execute_result"
    }
   ],
   "source": [
    "# Recalculo con los hiperparámetros optimizados por TEA\n",
    "# Consecuentemente la TEA incrementa desde 0.7245 a 4.5149\n",
    "\n",
    "data=getData(ticker='TSLA',data_from='2011-01-01',data_to='2020-12-31')\n",
    "features=getFeatures(data,n_obv=125,n_sigma=40,n_rsi=45,fast=15,slow=30)\n",
    "actions=getActions(features,trig_buy_cross=0.031,trig_buy_rsi=57.55,trig_buy_sigma=0.0295,trig_sell_cross=0.0435,trig_sell_rsi=57.55,trig_sell_obv=-0.34)\n",
    "trades=getTrades(actions)\n",
    "resultados_df,resultados_dict=resumen(trades)\n",
    "resultados_dict"
   ]
  },
  {
   "cell_type": "code",
   "execution_count": 50,
   "metadata": {},
   "outputs": [
    {
     "data": {
      "text/plain": [
       "{'trig_buy_sigma': 0.0387,\n",
       " 'trig_buy_rsi': 62.3296,\n",
       " 'trig_buy_cross': 0.0166,\n",
       " 'trig_sell_rsi': 60.8,\n",
       " 'trig_sell_cross': 0.043,\n",
       " 'trig_sell_obv': 0.3131}"
      ]
     },
     "execution_count": 50,
     "metadata": {},
     "output_type": "execute_result"
    }
   ],
   "source": [
    "# Sampleo utilizando los parámetros del top20\n",
    "\n",
    "keys=top20.iloc[:,3:].columns\n",
    "samples={}\n",
    "for k in keys:\n",
    "    samples[k]=stats.norm(top20[k].mean(),top20[k].std()).rvs(400)\n",
    "\n",
    "def getTriggers():\n",
    "    triggers={}\n",
    "    for key in samples.keys():\n",
    "        triggers[key]=round(random.choice(samples[key]),4)\n",
    "    \n",
    "    return triggers\n",
    "\n",
    "getTriggers()"
   ]
  },
  {
   "cell_type": "code",
   "execution_count": 51,
   "metadata": {},
   "outputs": [
    {
     "name": "stderr",
     "output_type": "stream",
     "text": [
      "C:\\Users\\Usuario\\AppData\\Local\\Temp/ipykernel_16912/3735402372.py:21: RuntimeWarning: invalid value encountered in double_scalars\n",
      "  tea=(resultado+1)**(365/t)-1 if t > 0 else 0\n"
     ]
    },
    {
     "data": {
      "text/html": [
       "<div>\n",
       "<style scoped>\n",
       "    .dataframe tbody tr th:only-of-type {\n",
       "        vertical-align: middle;\n",
       "    }\n",
       "\n",
       "    .dataframe tbody tr th {\n",
       "        vertical-align: top;\n",
       "    }\n",
       "\n",
       "    .dataframe thead th {\n",
       "        text-align: right;\n",
       "    }\n",
       "</style>\n",
       "<table border=\"1\" class=\"dataframe\">\n",
       "  <thead>\n",
       "    <tr style=\"text-align: right;\">\n",
       "      <th></th>\n",
       "      <th>rendimiento</th>\n",
       "      <th>dias_in</th>\n",
       "      <th>TEA</th>\n",
       "      <th>trig_buy_sigma</th>\n",
       "      <th>trig_buy_rsi</th>\n",
       "      <th>trig_buy_cross</th>\n",
       "      <th>trig_sell_rsi</th>\n",
       "      <th>trig_sell_cross</th>\n",
       "      <th>trig_sell_obv</th>\n",
       "    </tr>\n",
       "  </thead>\n",
       "  <tbody>\n",
       "    <tr>\n",
       "      <th>0</th>\n",
       "      <td>18.9389</td>\n",
       "      <td>653</td>\n",
       "      <td>4.3270</td>\n",
       "      <td>0.0363</td>\n",
       "      <td>57.0255</td>\n",
       "      <td>0.0110</td>\n",
       "      <td>58.3067</td>\n",
       "      <td>0.0006</td>\n",
       "      <td>-0.7744</td>\n",
       "    </tr>\n",
       "    <tr>\n",
       "      <th>1</th>\n",
       "      <td>9.4740</td>\n",
       "      <td>695</td>\n",
       "      <td>2.4335</td>\n",
       "      <td>0.0191</td>\n",
       "      <td>59.7145</td>\n",
       "      <td>0.0531</td>\n",
       "      <td>56.6332</td>\n",
       "      <td>0.0409</td>\n",
       "      <td>-1.0696</td>\n",
       "    </tr>\n",
       "    <tr>\n",
       "      <th>2</th>\n",
       "      <td>6.3474</td>\n",
       "      <td>479</td>\n",
       "      <td>3.5709</td>\n",
       "      <td>0.0236</td>\n",
       "      <td>64.3123</td>\n",
       "      <td>0.0359</td>\n",
       "      <td>55.9978</td>\n",
       "      <td>0.0678</td>\n",
       "      <td>-1.1030</td>\n",
       "    </tr>\n",
       "    <tr>\n",
       "      <th>3</th>\n",
       "      <td>10.7914</td>\n",
       "      <td>660</td>\n",
       "      <td>2.9139</td>\n",
       "      <td>0.0291</td>\n",
       "      <td>56.8240</td>\n",
       "      <td>0.0822</td>\n",
       "      <td>57.8285</td>\n",
       "      <td>-0.0048</td>\n",
       "      <td>0.1867</td>\n",
       "    </tr>\n",
       "    <tr>\n",
       "      <th>4</th>\n",
       "      <td>1.9899</td>\n",
       "      <td>338</td>\n",
       "      <td>2.2633</td>\n",
       "      <td>0.0403</td>\n",
       "      <td>61.7699</td>\n",
       "      <td>-0.0243</td>\n",
       "      <td>57.8519</td>\n",
       "      <td>0.0176</td>\n",
       "      <td>-1.6060</td>\n",
       "    </tr>\n",
       "    <tr>\n",
       "      <th>...</th>\n",
       "      <td>...</td>\n",
       "      <td>...</td>\n",
       "      <td>...</td>\n",
       "      <td>...</td>\n",
       "      <td>...</td>\n",
       "      <td>...</td>\n",
       "      <td>...</td>\n",
       "      <td>...</td>\n",
       "      <td>...</td>\n",
       "    </tr>\n",
       "    <tr>\n",
       "      <th>4995</th>\n",
       "      <td>9.9017</td>\n",
       "      <td>544</td>\n",
       "      <td>3.9672</td>\n",
       "      <td>0.0148</td>\n",
       "      <td>60.6213</td>\n",
       "      <td>0.0838</td>\n",
       "      <td>56.0819</td>\n",
       "      <td>0.0218</td>\n",
       "      <td>0.9721</td>\n",
       "    </tr>\n",
       "    <tr>\n",
       "      <th>4996</th>\n",
       "      <td>0.7504</td>\n",
       "      <td>312</td>\n",
       "      <td>0.9250</td>\n",
       "      <td>0.0398</td>\n",
       "      <td>63.8011</td>\n",
       "      <td>-0.0009</td>\n",
       "      <td>54.9804</td>\n",
       "      <td>0.0880</td>\n",
       "      <td>-0.2671</td>\n",
       "    </tr>\n",
       "    <tr>\n",
       "      <th>4997</th>\n",
       "      <td>9.3079</td>\n",
       "      <td>469</td>\n",
       "      <td>5.1447</td>\n",
       "      <td>0.0281</td>\n",
       "      <td>62.8933</td>\n",
       "      <td>-0.0073</td>\n",
       "      <td>60.1994</td>\n",
       "      <td>0.0163</td>\n",
       "      <td>-0.6549</td>\n",
       "    </tr>\n",
       "    <tr>\n",
       "      <th>4998</th>\n",
       "      <td>2.4454</td>\n",
       "      <td>427</td>\n",
       "      <td>1.8790</td>\n",
       "      <td>0.0386</td>\n",
       "      <td>59.0648</td>\n",
       "      <td>0.0273</td>\n",
       "      <td>55.6308</td>\n",
       "      <td>-0.0415</td>\n",
       "      <td>-1.5338</td>\n",
       "    </tr>\n",
       "    <tr>\n",
       "      <th>4999</th>\n",
       "      <td>7.1496</td>\n",
       "      <td>449</td>\n",
       "      <td>4.5040</td>\n",
       "      <td>0.0347</td>\n",
       "      <td>52.6673</td>\n",
       "      <td>0.1223</td>\n",
       "      <td>56.1649</td>\n",
       "      <td>0.0884</td>\n",
       "      <td>-0.6585</td>\n",
       "    </tr>\n",
       "  </tbody>\n",
       "</table>\n",
       "<p>5000 rows × 9 columns</p>\n",
       "</div>"
      ],
      "text/plain": [
       "      rendimiento  dias_in     TEA  trig_buy_sigma  trig_buy_rsi  \\\n",
       "0         18.9389      653  4.3270          0.0363       57.0255   \n",
       "1          9.4740      695  2.4335          0.0191       59.7145   \n",
       "2          6.3474      479  3.5709          0.0236       64.3123   \n",
       "3         10.7914      660  2.9139          0.0291       56.8240   \n",
       "4          1.9899      338  2.2633          0.0403       61.7699   \n",
       "...           ...      ...     ...             ...           ...   \n",
       "4995       9.9017      544  3.9672          0.0148       60.6213   \n",
       "4996       0.7504      312  0.9250          0.0398       63.8011   \n",
       "4997       9.3079      469  5.1447          0.0281       62.8933   \n",
       "4998       2.4454      427  1.8790          0.0386       59.0648   \n",
       "4999       7.1496      449  4.5040          0.0347       52.6673   \n",
       "\n",
       "      trig_buy_cross  trig_sell_rsi  trig_sell_cross  trig_sell_obv  \n",
       "0             0.0110        58.3067           0.0006        -0.7744  \n",
       "1             0.0531        56.6332           0.0409        -1.0696  \n",
       "2             0.0359        55.9978           0.0678        -1.1030  \n",
       "3             0.0822        57.8285          -0.0048         0.1867  \n",
       "4            -0.0243        57.8519           0.0176        -1.6060  \n",
       "...              ...            ...              ...            ...  \n",
       "4995          0.0838        56.0819           0.0218         0.9721  \n",
       "4996         -0.0009        54.9804           0.0880        -0.2671  \n",
       "4997         -0.0073        60.1994           0.0163        -0.6549  \n",
       "4998          0.0273        55.6308          -0.0415        -1.5338  \n",
       "4999          0.1223        56.1649           0.0884        -0.6585  \n",
       "\n",
       "[5000 rows x 9 columns]"
      ]
     },
     "execution_count": 51,
     "metadata": {},
     "output_type": "execute_result"
    }
   ],
   "source": [
    "features=getFeatures(data,n_obv=125,n_sigma=40,n_rsi=45,fast=15,slow=30)\n",
    "\n",
    "l=[]\n",
    "for sample in range(5000):\n",
    "\n",
    "    triggers=getTriggers()\n",
    "    actions=getActions(features, trig_buy_cross=triggers['trig_buy_cross'],\n",
    "                                trig_buy_rsi=triggers['trig_buy_rsi'],\n",
    "                                trig_buy_sigma=triggers['trig_buy_sigma'],\n",
    "                                trig_sell_cross=triggers['trig_sell_cross'],\n",
    "                                trig_sell_rsi=triggers['trig_sell_rsi'],\n",
    "                                trig_sell_obv=triggers['trig_sell_obv'])\n",
    "    \n",
    "    trades=getTrades(actions)\n",
    "    resultados_df,resultados_dict=resumen(trades)\n",
    "\n",
    "    for key in samples.keys():\n",
    "        resultados_dict[key]=triggers[key]\n",
    "    \n",
    "    l.append(resultados_dict)\n",
    "\n",
    "results=pd.DataFrame(l)\n",
    "results\n"
   ]
  },
  {
   "cell_type": "code",
   "execution_count": 52,
   "metadata": {},
   "outputs": [
    {
     "data": {
      "text/html": [
       "<div>\n",
       "<style scoped>\n",
       "    .dataframe tbody tr th:only-of-type {\n",
       "        vertical-align: middle;\n",
       "    }\n",
       "\n",
       "    .dataframe tbody tr th {\n",
       "        vertical-align: top;\n",
       "    }\n",
       "\n",
       "    .dataframe thead th {\n",
       "        text-align: right;\n",
       "    }\n",
       "</style>\n",
       "<table border=\"1\" class=\"dataframe\">\n",
       "  <thead>\n",
       "    <tr style=\"text-align: right;\">\n",
       "      <th></th>\n",
       "      <th>trig_buy_sigma</th>\n",
       "      <th>trig_buy_rsi</th>\n",
       "      <th>trig_buy_cross</th>\n",
       "      <th>trig_sell_rsi</th>\n",
       "      <th>trig_sell_cross</th>\n",
       "      <th>trig_sell_obv</th>\n",
       "    </tr>\n",
       "  </thead>\n",
       "  <tbody>\n",
       "    <tr>\n",
       "      <th>mean</th>\n",
       "      <td>0.031810</td>\n",
       "      <td>60.754295</td>\n",
       "      <td>-0.014670</td>\n",
       "      <td>58.957685</td>\n",
       "      <td>0.07405</td>\n",
       "      <td>-0.593830</td>\n",
       "    </tr>\n",
       "    <tr>\n",
       "      <th>std</th>\n",
       "      <td>0.003513</td>\n",
       "      <td>0.826937</td>\n",
       "      <td>0.050503</td>\n",
       "      <td>1.359552</td>\n",
       "      <td>0.02248</td>\n",
       "      <td>0.771699</td>\n",
       "    </tr>\n",
       "  </tbody>\n",
       "</table>\n",
       "</div>"
      ],
      "text/plain": [
       "      trig_buy_sigma  trig_buy_rsi  trig_buy_cross  trig_sell_rsi  \\\n",
       "mean        0.031810     60.754295       -0.014670      58.957685   \n",
       "std         0.003513      0.826937        0.050503       1.359552   \n",
       "\n",
       "      trig_sell_cross  trig_sell_obv  \n",
       "mean          0.07405      -0.593830  \n",
       "std           0.02248       0.771699  "
      ]
     },
     "execution_count": 52,
     "metadata": {},
     "output_type": "execute_result"
    }
   ],
   "source": [
    "top20=results.dropna().sort_values('TEA',ascending=False).head(20)\n",
    "top20\n",
    "top20.describe().iloc[1:3,3:]"
   ]
  },
  {
   "cell_type": "code",
   "execution_count": 53,
   "metadata": {},
   "outputs": [
    {
     "data": {
      "text/plain": [
       "{'trig_buy_sigma': 0.0264,\n",
       " 'trig_buy_rsi': 61.3048,\n",
       " 'trig_buy_cross': 0.0146,\n",
       " 'trig_sell_rsi': 58.6967,\n",
       " 'trig_sell_cross': 0.0459,\n",
       " 'trig_sell_obv': -1.1032}"
      ]
     },
     "execution_count": 53,
     "metadata": {},
     "output_type": "execute_result"
    }
   ],
   "source": [
    "# Sampleo utilizando los parámetros del top20\n",
    "\n",
    "keys=top20.iloc[:,3:].columns\n",
    "samples={}\n",
    "for k in keys:\n",
    "    samples[k]=stats.norm(top20[k].mean(),top20[k].std()).rvs(400)\n",
    "\n",
    "def getTriggers():\n",
    "    triggers={}\n",
    "    for key in samples.keys():\n",
    "        triggers[key]=round(random.choice(samples[key]),4)\n",
    "    \n",
    "    return triggers\n",
    "\n",
    "getTriggers()"
   ]
  },
  {
   "cell_type": "code",
   "execution_count": 54,
   "metadata": {},
   "outputs": [
    {
     "name": "stderr",
     "output_type": "stream",
     "text": [
      "C:\\Users\\Usuario\\AppData\\Local\\Temp/ipykernel_16912/3735402372.py:21: RuntimeWarning: invalid value encountered in double_scalars\n",
      "  tea=(resultado+1)**(365/t)-1 if t > 0 else 0\n"
     ]
    },
    {
     "data": {
      "text/html": [
       "<div>\n",
       "<style scoped>\n",
       "    .dataframe tbody tr th:only-of-type {\n",
       "        vertical-align: middle;\n",
       "    }\n",
       "\n",
       "    .dataframe tbody tr th {\n",
       "        vertical-align: top;\n",
       "    }\n",
       "\n",
       "    .dataframe thead th {\n",
       "        text-align: right;\n",
       "    }\n",
       "</style>\n",
       "<table border=\"1\" class=\"dataframe\">\n",
       "  <thead>\n",
       "    <tr style=\"text-align: right;\">\n",
       "      <th></th>\n",
       "      <th>rendimiento</th>\n",
       "      <th>dias_in</th>\n",
       "      <th>TEA</th>\n",
       "      <th>trig_buy_sigma</th>\n",
       "      <th>trig_buy_rsi</th>\n",
       "      <th>trig_buy_cross</th>\n",
       "      <th>trig_sell_rsi</th>\n",
       "      <th>trig_sell_cross</th>\n",
       "      <th>trig_sell_obv</th>\n",
       "    </tr>\n",
       "  </thead>\n",
       "  <tbody>\n",
       "    <tr>\n",
       "      <th>0</th>\n",
       "      <td>13.3938</td>\n",
       "      <td>456</td>\n",
       "      <td>7.4537</td>\n",
       "      <td>0.0325</td>\n",
       "      <td>60.4486</td>\n",
       "      <td>-0.0135</td>\n",
       "      <td>58.3895</td>\n",
       "      <td>0.0674</td>\n",
       "      <td>-1.9221</td>\n",
       "    </tr>\n",
       "    <tr>\n",
       "      <th>1</th>\n",
       "      <td>11.1732</td>\n",
       "      <td>531</td>\n",
       "      <td>4.5730</td>\n",
       "      <td>0.0309</td>\n",
       "      <td>60.4931</td>\n",
       "      <td>-0.0266</td>\n",
       "      <td>58.6306</td>\n",
       "      <td>0.0874</td>\n",
       "      <td>0.9777</td>\n",
       "    </tr>\n",
       "    <tr>\n",
       "      <th>2</th>\n",
       "      <td>10.3659</td>\n",
       "      <td>446</td>\n",
       "      <td>6.3095</td>\n",
       "      <td>0.0307</td>\n",
       "      <td>60.7995</td>\n",
       "      <td>-0.0695</td>\n",
       "      <td>58.6306</td>\n",
       "      <td>0.0806</td>\n",
       "      <td>-0.4707</td>\n",
       "    </tr>\n",
       "    <tr>\n",
       "      <th>3</th>\n",
       "      <td>11.5379</td>\n",
       "      <td>485</td>\n",
       "      <td>5.7065</td>\n",
       "      <td>0.0334</td>\n",
       "      <td>60.9060</td>\n",
       "      <td>-0.0201</td>\n",
       "      <td>59.6193</td>\n",
       "      <td>0.0348</td>\n",
       "      <td>-0.4136</td>\n",
       "    </tr>\n",
       "    <tr>\n",
       "      <th>4</th>\n",
       "      <td>14.4580</td>\n",
       "      <td>476</td>\n",
       "      <td>7.1630</td>\n",
       "      <td>0.0332</td>\n",
       "      <td>60.9060</td>\n",
       "      <td>0.0296</td>\n",
       "      <td>57.7466</td>\n",
       "      <td>0.0759</td>\n",
       "      <td>0.2477</td>\n",
       "    </tr>\n",
       "    <tr>\n",
       "      <th>...</th>\n",
       "      <td>...</td>\n",
       "      <td>...</td>\n",
       "      <td>...</td>\n",
       "      <td>...</td>\n",
       "      <td>...</td>\n",
       "      <td>...</td>\n",
       "      <td>...</td>\n",
       "      <td>...</td>\n",
       "      <td>...</td>\n",
       "    </tr>\n",
       "    <tr>\n",
       "      <th>4995</th>\n",
       "      <td>1.7386</td>\n",
       "      <td>367</td>\n",
       "      <td>1.7236</td>\n",
       "      <td>0.0351</td>\n",
       "      <td>60.4566</td>\n",
       "      <td>0.0417</td>\n",
       "      <td>60.0267</td>\n",
       "      <td>0.0955</td>\n",
       "      <td>0.4878</td>\n",
       "    </tr>\n",
       "    <tr>\n",
       "      <th>4996</th>\n",
       "      <td>12.6159</td>\n",
       "      <td>484</td>\n",
       "      <td>6.1651</td>\n",
       "      <td>0.0346</td>\n",
       "      <td>60.5404</td>\n",
       "      <td>-0.1053</td>\n",
       "      <td>59.3962</td>\n",
       "      <td>0.0392</td>\n",
       "      <td>-0.4957</td>\n",
       "    </tr>\n",
       "    <tr>\n",
       "      <th>4997</th>\n",
       "      <td>12.2958</td>\n",
       "      <td>526</td>\n",
       "      <td>5.0223</td>\n",
       "      <td>0.0309</td>\n",
       "      <td>60.1429</td>\n",
       "      <td>-0.1047</td>\n",
       "      <td>55.5133</td>\n",
       "      <td>0.0715</td>\n",
       "      <td>-1.3337</td>\n",
       "    </tr>\n",
       "    <tr>\n",
       "      <th>4998</th>\n",
       "      <td>10.7080</td>\n",
       "      <td>470</td>\n",
       "      <td>5.7574</td>\n",
       "      <td>0.0289</td>\n",
       "      <td>61.5918</td>\n",
       "      <td>-0.0086</td>\n",
       "      <td>59.9575</td>\n",
       "      <td>0.0424</td>\n",
       "      <td>0.5760</td>\n",
       "    </tr>\n",
       "    <tr>\n",
       "      <th>4999</th>\n",
       "      <td>3.0433</td>\n",
       "      <td>425</td>\n",
       "      <td>2.3195</td>\n",
       "      <td>0.0334</td>\n",
       "      <td>59.4067</td>\n",
       "      <td>0.0500</td>\n",
       "      <td>60.6739</td>\n",
       "      <td>0.0332</td>\n",
       "      <td>-0.6745</td>\n",
       "    </tr>\n",
       "  </tbody>\n",
       "</table>\n",
       "<p>5000 rows × 9 columns</p>\n",
       "</div>"
      ],
      "text/plain": [
       "      rendimiento  dias_in     TEA  trig_buy_sigma  trig_buy_rsi  \\\n",
       "0         13.3938      456  7.4537          0.0325       60.4486   \n",
       "1         11.1732      531  4.5730          0.0309       60.4931   \n",
       "2         10.3659      446  6.3095          0.0307       60.7995   \n",
       "3         11.5379      485  5.7065          0.0334       60.9060   \n",
       "4         14.4580      476  7.1630          0.0332       60.9060   \n",
       "...           ...      ...     ...             ...           ...   \n",
       "4995       1.7386      367  1.7236          0.0351       60.4566   \n",
       "4996      12.6159      484  6.1651          0.0346       60.5404   \n",
       "4997      12.2958      526  5.0223          0.0309       60.1429   \n",
       "4998      10.7080      470  5.7574          0.0289       61.5918   \n",
       "4999       3.0433      425  2.3195          0.0334       59.4067   \n",
       "\n",
       "      trig_buy_cross  trig_sell_rsi  trig_sell_cross  trig_sell_obv  \n",
       "0            -0.0135        58.3895           0.0674        -1.9221  \n",
       "1            -0.0266        58.6306           0.0874         0.9777  \n",
       "2            -0.0695        58.6306           0.0806        -0.4707  \n",
       "3            -0.0201        59.6193           0.0348        -0.4136  \n",
       "4             0.0296        57.7466           0.0759         0.2477  \n",
       "...              ...            ...              ...            ...  \n",
       "4995          0.0417        60.0267           0.0955         0.4878  \n",
       "4996         -0.1053        59.3962           0.0392        -0.4957  \n",
       "4997         -0.1047        55.5133           0.0715        -1.3337  \n",
       "4998         -0.0086        59.9575           0.0424         0.5760  \n",
       "4999          0.0500        60.6739           0.0332        -0.6745  \n",
       "\n",
       "[5000 rows x 9 columns]"
      ]
     },
     "execution_count": 54,
     "metadata": {},
     "output_type": "execute_result"
    }
   ],
   "source": [
    "features=getFeatures(data,n_obv=125,n_sigma=40,n_rsi=45,fast=15,slow=30)\n",
    "\n",
    "l=[]\n",
    "for sample in range(5000):\n",
    "\n",
    "    triggers=getTriggers()\n",
    "    actions=getActions(features, trig_buy_cross=triggers['trig_buy_cross'],\n",
    "                                trig_buy_rsi=triggers['trig_buy_rsi'],\n",
    "                                trig_buy_sigma=triggers['trig_buy_sigma'],\n",
    "                                trig_sell_cross=triggers['trig_sell_cross'],\n",
    "                                trig_sell_rsi=triggers['trig_sell_rsi'],\n",
    "                                trig_sell_obv=triggers['trig_sell_obv'])\n",
    "    \n",
    "    trades=getTrades(actions)\n",
    "    resultados_df,resultados_dict=resumen(trades)\n",
    "\n",
    "    for key in samples.keys():\n",
    "        resultados_dict[key]=triggers[key]\n",
    "    \n",
    "    l.append(resultados_dict)\n",
    "\n",
    "results=pd.DataFrame(l)\n",
    "results\n"
   ]
  },
  {
   "cell_type": "code",
   "execution_count": 55,
   "metadata": {},
   "outputs": [
    {
     "data": {
      "text/html": [
       "<div>\n",
       "<style scoped>\n",
       "    .dataframe tbody tr th:only-of-type {\n",
       "        vertical-align: middle;\n",
       "    }\n",
       "\n",
       "    .dataframe tbody tr th {\n",
       "        vertical-align: top;\n",
       "    }\n",
       "\n",
       "    .dataframe thead th {\n",
       "        text-align: right;\n",
       "    }\n",
       "</style>\n",
       "<table border=\"1\" class=\"dataframe\">\n",
       "  <thead>\n",
       "    <tr style=\"text-align: right;\">\n",
       "      <th></th>\n",
       "      <th>trig_buy_sigma</th>\n",
       "      <th>trig_buy_rsi</th>\n",
       "      <th>trig_buy_cross</th>\n",
       "      <th>trig_sell_rsi</th>\n",
       "      <th>trig_sell_cross</th>\n",
       "      <th>trig_sell_obv</th>\n",
       "    </tr>\n",
       "  </thead>\n",
       "  <tbody>\n",
       "    <tr>\n",
       "      <th>mean</th>\n",
       "      <td>0.030690</td>\n",
       "      <td>61.642255</td>\n",
       "      <td>-0.046555</td>\n",
       "      <td>61.419680</td>\n",
       "      <td>0.084700</td>\n",
       "      <td>-0.688350</td>\n",
       "    </tr>\n",
       "    <tr>\n",
       "      <th>std</th>\n",
       "      <td>0.001777</td>\n",
       "      <td>0.294479</td>\n",
       "      <td>0.037226</td>\n",
       "      <td>0.590348</td>\n",
       "      <td>0.013713</td>\n",
       "      <td>0.781716</td>\n",
       "    </tr>\n",
       "  </tbody>\n",
       "</table>\n",
       "</div>"
      ],
      "text/plain": [
       "      trig_buy_sigma  trig_buy_rsi  trig_buy_cross  trig_sell_rsi  \\\n",
       "mean        0.030690     61.642255       -0.046555      61.419680   \n",
       "std         0.001777      0.294479        0.037226       0.590348   \n",
       "\n",
       "      trig_sell_cross  trig_sell_obv  \n",
       "mean         0.084700      -0.688350  \n",
       "std          0.013713       0.781716  "
      ]
     },
     "execution_count": 55,
     "metadata": {},
     "output_type": "execute_result"
    }
   ],
   "source": [
    "top20=results.dropna().sort_values('TEA',ascending=False).head(20)\n",
    "top20\n",
    "top20.describe().iloc[1:3,3:]"
   ]
  },
  {
   "cell_type": "code",
   "execution_count": 56,
   "metadata": {},
   "outputs": [
    {
     "data": {
      "text/plain": [
       "{'rendimiento': 9.0632, 'dias_in': 437, 'TEA': 5.879}"
      ]
     },
     "execution_count": 56,
     "metadata": {},
     "output_type": "execute_result"
    }
   ],
   "source": [
    "# Recalculo con los hiperparámetros optimizados por TEA\n",
    "# Consecuentemente la TEA incrementa desde 0.7245 a 5.879, aunque menor a la parametrización anterior\n",
    "\n",
    "data=getData(ticker='TSLA',data_from='2011-01-01',data_to='2020-12-31')\n",
    "features=getFeatures(data,n_obv=125,n_sigma=40,n_rsi=45,fast=15,slow=30)\n",
    "actions=getActions(features,trig_buy_cross=0.059,trig_buy_rsi=60.705,trig_buy_sigma=0.032,trig_sell_cross=0.092,trig_sell_rsi=57.934,trig_sell_obv=-0.053)\n",
    "trades=getTrades(actions)\n",
    "resultados_df,resultados_dict=resumen(trades)\n",
    "resultados_dict"
   ]
  },
  {
   "cell_type": "code",
   "execution_count": null,
   "metadata": {},
   "outputs": [],
   "source": []
  },
  {
   "cell_type": "code",
   "execution_count": null,
   "metadata": {},
   "outputs": [],
   "source": []
  }
 ],
 "metadata": {
  "hide_input": false,
  "interpreter": {
   "hash": "e06ff7da33dc9620448857a90ad8b5f428f0d573d205a934d2841c8aee45ea32"
  },
  "kernelspec": {
   "display_name": "Python 3.9.7 ('base')",
   "language": "python",
   "name": "python3"
  },
  "language_info": {
   "codemirror_mode": {
    "name": "ipython",
    "version": 3
   },
   "file_extension": ".py",
   "mimetype": "text/x-python",
   "name": "python",
   "nbconvert_exporter": "python",
   "pygments_lexer": "ipython3",
   "version": "3.9.7"
  },
  "toc": {
   "base_numbering": 1,
   "nav_menu": {},
   "number_sections": true,
   "sideBar": true,
   "skip_h1_title": false,
   "title_cell": "Table of Contents",
   "title_sidebar": "Back Testing",
   "toc_cell": false,
   "toc_position": {
    "height": "calc(100% - 180px)",
    "left": "10px",
    "top": "150px",
    "width": "184px"
   },
   "toc_section_display": true,
   "toc_window_display": true
  },
  "varInspector": {
   "cols": {
    "lenName": 16,
    "lenType": 16,
    "lenVar": 40
   },
   "kernels_config": {
    "python": {
     "delete_cmd_postfix": "",
     "delete_cmd_prefix": "del ",
     "library": "var_list.py",
     "varRefreshCmd": "print(var_dic_list())"
    },
    "r": {
     "delete_cmd_postfix": ") ",
     "delete_cmd_prefix": "rm(",
     "library": "var_list.r",
     "varRefreshCmd": "cat(var_dic_list()) "
    }
   },
   "position": {
    "height": "446px",
    "left": "1004px",
    "right": "20px",
    "top": "120px",
    "width": "350px"
   },
   "types_to_exclude": [
    "module",
    "function",
    "builtin_function_or_method",
    "instance",
    "_Feature"
   ],
   "window_display": false
  }
 },
 "nbformat": 4,
 "nbformat_minor": 4
}
